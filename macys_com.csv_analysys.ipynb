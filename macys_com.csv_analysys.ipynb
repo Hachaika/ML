{
  "cells": [
    {
      "cell_type": "code",
      "execution_count": null,
      "metadata": {
        "colab": {
          "base_uri": "https://localhost:8080/"
        },
        "id": "a1593a3b",
        "outputId": "a5117517-5214-43dc-a5d9-af49d5b4e5a5"
      },
      "outputs": [
        {
          "output_type": "stream",
          "name": "stderr",
          "text": [
            "[nltk_data] Downloading package stopwords to /root/nltk_data...\n",
            "[nltk_data]   Package stopwords is already up-to-date!\n"
          ]
        }
      ],
      "source": [
        "import pandas as pd\n",
        "from sklearn.model_selection import train_test_split\n",
        "from sklearn.feature_extraction.text import TfidfVectorizer\n",
        "# from sklearn.metrics import mean_absolute_percentage_error\n",
        "# from sklearn.metrics import mean_squared_error\n",
        "from sklearn.linear_model import LogisticRegression\n",
        "import matplotlib.pyplot as plt\n",
        "import nltk\n",
        "from nltk.corpus import stopwords as nltk_stopwords\n",
        "from sklearn.model_selection import GridSearchCV\n",
        "nltk.download('stopwords')\n",
        "import numpy as np\n",
        "# from sklearn.metrics import mean_absolute_error\n",
        "from sklearn.metrics import accuracy_score\n",
        "from google.colab import files"
      ],
      "id": "a1593a3b"
    },
    {
      "cell_type": "code",
      "execution_count": null,
      "metadata": {
        "colab": {
          "base_uri": "https://localhost:8080/",
          "height": 1000
        },
        "id": "c38c2816",
        "outputId": "791ddc42-e098-4cc6-e4b6-1be284e4359f"
      },
      "outputs": [
        {
          "output_type": "execute_result",
          "data": {
            "text/plain": [
              "                                            product_name      mrp    price  \\\n",
              "0                                ID String Bikini QF1754  $20.00   $20.00    \n",
              "1                                ID String Bikini QF1754  $20.00   $20.00    \n",
              "2                                ID String Bikini QF1754  $20.00   $20.00    \n",
              "3      CK Black Collection Embrace Lace-Waist Thong Q...  $26.00   $26.00    \n",
              "4                              Halo Lace Boyshort 870205  $15.00   $15.00    \n",
              "...                                                  ...      ...      ...   \n",
              "40892             Sport High-Impact Underwire Bra 855170  $65.00   $34.99    \n",
              "40893              Wild Thistle French Lace Brief 4Y2234  $35.00   $35.00    \n",
              "40894            Plus Size Signature Lace Vikini 482374X  $32.00   $22.40    \n",
              "40895                            Modern Logo Pants D1632  $46.00   $46.00    \n",
              "40896                            Modern Logo Pants D1632  $46.00   $46.00    \n",
              "\n",
              "                                                 pdp_url    brand_name  \\\n",
              "0      http://www1.macys.com/shop/product/calvin-klei...  Calvin Klein   \n",
              "1      http://www1.macys.com/shop/product/calvin-klei...  Calvin Klein   \n",
              "2      http://www1.macys.com/shop/product/calvin-klei...  Calvin Klein   \n",
              "3      http://www1.macys.com/shop/product/calvin-klei...  Calvin Klein   \n",
              "4      http://www1.macys.com/shop/product/wacoal-halo...        Wacoal   \n",
              "...                                                  ...           ...   \n",
              "40892  http://www1.macys.com/shop/product/wacoal-spor...        Wacoal   \n",
              "40893  http://www1.macys.com/shop/product/hanky-panky...   Hanky Panky   \n",
              "40894  http://www1.macys.com/shop/product/hanky-panky...   Hanky Panky   \n",
              "40895  http://www1.macys.com/shop/product/calvin-klei...  Calvin Klein   \n",
              "40896  http://www1.macys.com/shop/product/calvin-klei...  Calvin Klein   \n",
              "\n",
              "                                       product_category  retailer  \\\n",
              "0      Women - Lingerie & Shapewear - Designer Lingerie  Macys US   \n",
              "1      Women - Lingerie & Shapewear - Designer Lingerie  Macys US   \n",
              "2      Women - Lingerie & Shapewear - Designer Lingerie  Macys US   \n",
              "3      Women - Lingerie & Shapewear - Designer Lingerie  Macys US   \n",
              "4      Women - Lingerie & Shapewear - Designer Lingerie  Macys US   \n",
              "...                                                 ...       ...   \n",
              "40892               Women - Lingerie & Shapewear - Bras  Macys US   \n",
              "40893            Women - Lingerie & Shapewear - Panties  Macys US   \n",
              "40894      Women - Lingerie & Shapewear - Sexy Lingerie  Macys US   \n",
              "40895  Women - Lingerie & Shapewear - Designer Lingerie  Macys US   \n",
              "40896  Women - Lingerie & Shapewear - Designer Lingerie  Macys US   \n",
              "\n",
              "                                             description  rating  \\\n",
              "0      The perfect amount of coverage in a subtle sil...     NaN   \n",
              "1      The perfect amount of coverage in a subtle sil...     NaN   \n",
              "2      The perfect amount of coverage in a subtle sil...     NaN   \n",
              "3      Exquisitely designed embroidered lace beautifu...     NaN   \n",
              "4      A fit that is heavenly. The stretch lace Halo ...     5.0   \n",
              "...                                                  ...     ...   \n",
              "40892  Designed to withstand medium to high-impact wo...     4.2   \n",
              "40893  Soft, luxurious lace is printed with a gorgeou...     NaN   \n",
              "40894  You can't go wrong with Hanky Panky's signatur...     5.0   \n",
              "40895  Comfy and low-key, these Modern pants from Cal...     NaN   \n",
              "40896  Comfy and low-key, these Modern pants from Cal...     NaN   \n",
              "\n",
              "       review_count                                   style_attributes  \\\n",
              "0               NaN  [\"Thin elastic waistband \", \"Repeating logo at...   \n",
              "1               NaN  [\"Thin elastic waistband \", \"Repeating logo at...   \n",
              "2               NaN  [\"Thin elastic waistband \", \"Repeating logo at...   \n",
              "3               NaN  [\"Elastic lace waistband\", \"Lace at front and ...   \n",
              "4               2.0  [\"Stretch lace waistband\", \"All-over floral la...   \n",
              "...             ...                                                ...   \n",
              "40892           5.0  [\"Wide adjustable straps\", \"Seamless molded st...   \n",
              "40893           NaN  [\"High waist\", \"Allover, soft lace\", \"Full bac...   \n",
              "40894           1.0  [\"Soft lace\", \"V-shaped waistband\", \"Lined at ...   \n",
              "40895           NaN  [\"Wide elastic waistband features logo\", \"Full...   \n",
              "40896           NaN  [\"Wide elastic waistband features logo\", \"Full...   \n",
              "\n",
              "                       total_sizes               available_size  \\\n",
              "0      [\"XS\", \"S\", \"M\", \"L\", \"XL\"]  [\"XS\", \"S\", \"M\", \"L\", \"XL\"]   \n",
              "1      [\"XS\", \"S\", \"M\", \"L\", \"XL\"]  [\"XS\", \"S\", \"M\", \"L\", \"XL\"]   \n",
              "2      [\"XS\", \"S\", \"M\", \"L\", \"XL\"]  [\"XS\", \"S\", \"M\", \"L\", \"XL\"]   \n",
              "3                            [\"M\"]                        [\"M\"]   \n",
              "4            [\"S\", \"M\", \"L\", \"XL\"]        [\"S\", \"M\", \"L\", \"XL\"]   \n",
              "...                            ...                          ...   \n",
              "40892                      [\"38C\"]                      [\"38C\"]   \n",
              "40893                        [\"S\"]                        [\"S\"]   \n",
              "40894                       [\"3X\"]                       [\"3X\"]   \n",
              "40895              [\"S\", \"M\", \"L\"]              [\"S\", \"M\", \"L\"]   \n",
              "40896              [\"S\", \"M\", \"L\"]              [\"S\", \"M\", \"L\"]   \n",
              "\n",
              "                         color  \n",
              "0                        Black  \n",
              "1                  Simple Grid  \n",
              "2                        White  \n",
              "3                Regal Sensous  \n",
              "4                        Black  \n",
              "...                        ...  \n",
              "40892  Poseidon/Caribbean Blue  \n",
              "40893                    Multi  \n",
              "40894                     Chai  \n",
              "40895                    Black  \n",
              "40896             Grey Heather  \n",
              "\n",
              "[40897 rows x 14 columns]"
            ],
            "text/html": [
              "\n",
              "  <div id=\"df-1a16a385-5a64-4be2-8751-6234954b1f68\">\n",
              "    <div class=\"colab-df-container\">\n",
              "      <div>\n",
              "<style scoped>\n",
              "    .dataframe tbody tr th:only-of-type {\n",
              "        vertical-align: middle;\n",
              "    }\n",
              "\n",
              "    .dataframe tbody tr th {\n",
              "        vertical-align: top;\n",
              "    }\n",
              "\n",
              "    .dataframe thead th {\n",
              "        text-align: right;\n",
              "    }\n",
              "</style>\n",
              "<table border=\"1\" class=\"dataframe\">\n",
              "  <thead>\n",
              "    <tr style=\"text-align: right;\">\n",
              "      <th></th>\n",
              "      <th>product_name</th>\n",
              "      <th>mrp</th>\n",
              "      <th>price</th>\n",
              "      <th>pdp_url</th>\n",
              "      <th>brand_name</th>\n",
              "      <th>product_category</th>\n",
              "      <th>retailer</th>\n",
              "      <th>description</th>\n",
              "      <th>rating</th>\n",
              "      <th>review_count</th>\n",
              "      <th>style_attributes</th>\n",
              "      <th>total_sizes</th>\n",
              "      <th>available_size</th>\n",
              "      <th>color</th>\n",
              "    </tr>\n",
              "  </thead>\n",
              "  <tbody>\n",
              "    <tr>\n",
              "      <th>0</th>\n",
              "      <td>ID String Bikini QF1754</td>\n",
              "      <td>$20.00</td>\n",
              "      <td>$20.00</td>\n",
              "      <td>http://www1.macys.com/shop/product/calvin-klei...</td>\n",
              "      <td>Calvin Klein</td>\n",
              "      <td>Women - Lingerie &amp; Shapewear - Designer Lingerie</td>\n",
              "      <td>Macys US</td>\n",
              "      <td>The perfect amount of coverage in a subtle sil...</td>\n",
              "      <td>NaN</td>\n",
              "      <td>NaN</td>\n",
              "      <td>[\"Thin elastic waistband \", \"Repeating logo at...</td>\n",
              "      <td>[\"XS\", \"S\", \"M\", \"L\", \"XL\"]</td>\n",
              "      <td>[\"XS\", \"S\", \"M\", \"L\", \"XL\"]</td>\n",
              "      <td>Black</td>\n",
              "    </tr>\n",
              "    <tr>\n",
              "      <th>1</th>\n",
              "      <td>ID String Bikini QF1754</td>\n",
              "      <td>$20.00</td>\n",
              "      <td>$20.00</td>\n",
              "      <td>http://www1.macys.com/shop/product/calvin-klei...</td>\n",
              "      <td>Calvin Klein</td>\n",
              "      <td>Women - Lingerie &amp; Shapewear - Designer Lingerie</td>\n",
              "      <td>Macys US</td>\n",
              "      <td>The perfect amount of coverage in a subtle sil...</td>\n",
              "      <td>NaN</td>\n",
              "      <td>NaN</td>\n",
              "      <td>[\"Thin elastic waistband \", \"Repeating logo at...</td>\n",
              "      <td>[\"XS\", \"S\", \"M\", \"L\", \"XL\"]</td>\n",
              "      <td>[\"XS\", \"S\", \"M\", \"L\", \"XL\"]</td>\n",
              "      <td>Simple Grid</td>\n",
              "    </tr>\n",
              "    <tr>\n",
              "      <th>2</th>\n",
              "      <td>ID String Bikini QF1754</td>\n",
              "      <td>$20.00</td>\n",
              "      <td>$20.00</td>\n",
              "      <td>http://www1.macys.com/shop/product/calvin-klei...</td>\n",
              "      <td>Calvin Klein</td>\n",
              "      <td>Women - Lingerie &amp; Shapewear - Designer Lingerie</td>\n",
              "      <td>Macys US</td>\n",
              "      <td>The perfect amount of coverage in a subtle sil...</td>\n",
              "      <td>NaN</td>\n",
              "      <td>NaN</td>\n",
              "      <td>[\"Thin elastic waistband \", \"Repeating logo at...</td>\n",
              "      <td>[\"XS\", \"S\", \"M\", \"L\", \"XL\"]</td>\n",
              "      <td>[\"XS\", \"S\", \"M\", \"L\", \"XL\"]</td>\n",
              "      <td>White</td>\n",
              "    </tr>\n",
              "    <tr>\n",
              "      <th>3</th>\n",
              "      <td>CK Black Collection Embrace Lace-Waist Thong Q...</td>\n",
              "      <td>$26.00</td>\n",
              "      <td>$26.00</td>\n",
              "      <td>http://www1.macys.com/shop/product/calvin-klei...</td>\n",
              "      <td>Calvin Klein</td>\n",
              "      <td>Women - Lingerie &amp; Shapewear - Designer Lingerie</td>\n",
              "      <td>Macys US</td>\n",
              "      <td>Exquisitely designed embroidered lace beautifu...</td>\n",
              "      <td>NaN</td>\n",
              "      <td>NaN</td>\n",
              "      <td>[\"Elastic lace waistband\", \"Lace at front and ...</td>\n",
              "      <td>[\"M\"]</td>\n",
              "      <td>[\"M\"]</td>\n",
              "      <td>Regal Sensous</td>\n",
              "    </tr>\n",
              "    <tr>\n",
              "      <th>4</th>\n",
              "      <td>Halo Lace Boyshort 870205</td>\n",
              "      <td>$15.00</td>\n",
              "      <td>$15.00</td>\n",
              "      <td>http://www1.macys.com/shop/product/wacoal-halo...</td>\n",
              "      <td>Wacoal</td>\n",
              "      <td>Women - Lingerie &amp; Shapewear - Designer Lingerie</td>\n",
              "      <td>Macys US</td>\n",
              "      <td>A fit that is heavenly. The stretch lace Halo ...</td>\n",
              "      <td>5.0</td>\n",
              "      <td>2.0</td>\n",
              "      <td>[\"Stretch lace waistband\", \"All-over floral la...</td>\n",
              "      <td>[\"S\", \"M\", \"L\", \"XL\"]</td>\n",
              "      <td>[\"S\", \"M\", \"L\", \"XL\"]</td>\n",
              "      <td>Black</td>\n",
              "    </tr>\n",
              "    <tr>\n",
              "      <th>...</th>\n",
              "      <td>...</td>\n",
              "      <td>...</td>\n",
              "      <td>...</td>\n",
              "      <td>...</td>\n",
              "      <td>...</td>\n",
              "      <td>...</td>\n",
              "      <td>...</td>\n",
              "      <td>...</td>\n",
              "      <td>...</td>\n",
              "      <td>...</td>\n",
              "      <td>...</td>\n",
              "      <td>...</td>\n",
              "      <td>...</td>\n",
              "      <td>...</td>\n",
              "    </tr>\n",
              "    <tr>\n",
              "      <th>40892</th>\n",
              "      <td>Sport High-Impact Underwire Bra 855170</td>\n",
              "      <td>$65.00</td>\n",
              "      <td>$34.99</td>\n",
              "      <td>http://www1.macys.com/shop/product/wacoal-spor...</td>\n",
              "      <td>Wacoal</td>\n",
              "      <td>Women - Lingerie &amp; Shapewear - Bras</td>\n",
              "      <td>Macys US</td>\n",
              "      <td>Designed to withstand medium to high-impact wo...</td>\n",
              "      <td>4.2</td>\n",
              "      <td>5.0</td>\n",
              "      <td>[\"Wide adjustable straps\", \"Seamless molded st...</td>\n",
              "      <td>[\"38C\"]</td>\n",
              "      <td>[\"38C\"]</td>\n",
              "      <td>Poseidon/Caribbean Blue</td>\n",
              "    </tr>\n",
              "    <tr>\n",
              "      <th>40893</th>\n",
              "      <td>Wild Thistle French Lace Brief 4Y2234</td>\n",
              "      <td>$35.00</td>\n",
              "      <td>$35.00</td>\n",
              "      <td>http://www1.macys.com/shop/product/hanky-panky...</td>\n",
              "      <td>Hanky Panky</td>\n",
              "      <td>Women - Lingerie &amp; Shapewear - Panties</td>\n",
              "      <td>Macys US</td>\n",
              "      <td>Soft, luxurious lace is printed with a gorgeou...</td>\n",
              "      <td>NaN</td>\n",
              "      <td>NaN</td>\n",
              "      <td>[\"High waist\", \"Allover, soft lace\", \"Full bac...</td>\n",
              "      <td>[\"S\"]</td>\n",
              "      <td>[\"S\"]</td>\n",
              "      <td>Multi</td>\n",
              "    </tr>\n",
              "    <tr>\n",
              "      <th>40894</th>\n",
              "      <td>Plus Size Signature Lace Vikini 482374X</td>\n",
              "      <td>$32.00</td>\n",
              "      <td>$22.40</td>\n",
              "      <td>http://www1.macys.com/shop/product/hanky-panky...</td>\n",
              "      <td>Hanky Panky</td>\n",
              "      <td>Women - Lingerie &amp; Shapewear - Sexy Lingerie</td>\n",
              "      <td>Macys US</td>\n",
              "      <td>You can't go wrong with Hanky Panky's signatur...</td>\n",
              "      <td>5.0</td>\n",
              "      <td>1.0</td>\n",
              "      <td>[\"Soft lace\", \"V-shaped waistband\", \"Lined at ...</td>\n",
              "      <td>[\"3X\"]</td>\n",
              "      <td>[\"3X\"]</td>\n",
              "      <td>Chai</td>\n",
              "    </tr>\n",
              "    <tr>\n",
              "      <th>40895</th>\n",
              "      <td>Modern Logo Pants D1632</td>\n",
              "      <td>$46.00</td>\n",
              "      <td>$46.00</td>\n",
              "      <td>http://www1.macys.com/shop/product/calvin-klei...</td>\n",
              "      <td>Calvin Klein</td>\n",
              "      <td>Women - Lingerie &amp; Shapewear - Designer Lingerie</td>\n",
              "      <td>Macys US</td>\n",
              "      <td>Comfy and low-key, these Modern pants from Cal...</td>\n",
              "      <td>NaN</td>\n",
              "      <td>NaN</td>\n",
              "      <td>[\"Wide elastic waistband features logo\", \"Full...</td>\n",
              "      <td>[\"S\", \"M\", \"L\"]</td>\n",
              "      <td>[\"S\", \"M\", \"L\"]</td>\n",
              "      <td>Black</td>\n",
              "    </tr>\n",
              "    <tr>\n",
              "      <th>40896</th>\n",
              "      <td>Modern Logo Pants D1632</td>\n",
              "      <td>$46.00</td>\n",
              "      <td>$46.00</td>\n",
              "      <td>http://www1.macys.com/shop/product/calvin-klei...</td>\n",
              "      <td>Calvin Klein</td>\n",
              "      <td>Women - Lingerie &amp; Shapewear - Designer Lingerie</td>\n",
              "      <td>Macys US</td>\n",
              "      <td>Comfy and low-key, these Modern pants from Cal...</td>\n",
              "      <td>NaN</td>\n",
              "      <td>NaN</td>\n",
              "      <td>[\"Wide elastic waistband features logo\", \"Full...</td>\n",
              "      <td>[\"S\", \"M\", \"L\"]</td>\n",
              "      <td>[\"S\", \"M\", \"L\"]</td>\n",
              "      <td>Grey Heather</td>\n",
              "    </tr>\n",
              "  </tbody>\n",
              "</table>\n",
              "<p>40897 rows × 14 columns</p>\n",
              "</div>\n",
              "      <button class=\"colab-df-convert\" onclick=\"convertToInteractive('df-1a16a385-5a64-4be2-8751-6234954b1f68')\"\n",
              "              title=\"Convert this dataframe to an interactive table.\"\n",
              "              style=\"display:none;\">\n",
              "        \n",
              "  <svg xmlns=\"http://www.w3.org/2000/svg\" height=\"24px\"viewBox=\"0 0 24 24\"\n",
              "       width=\"24px\">\n",
              "    <path d=\"M0 0h24v24H0V0z\" fill=\"none\"/>\n",
              "    <path d=\"M18.56 5.44l.94 2.06.94-2.06 2.06-.94-2.06-.94-.94-2.06-.94 2.06-2.06.94zm-11 1L8.5 8.5l.94-2.06 2.06-.94-2.06-.94L8.5 2.5l-.94 2.06-2.06.94zm10 10l.94 2.06.94-2.06 2.06-.94-2.06-.94-.94-2.06-.94 2.06-2.06.94z\"/><path d=\"M17.41 7.96l-1.37-1.37c-.4-.4-.92-.59-1.43-.59-.52 0-1.04.2-1.43.59L10.3 9.45l-7.72 7.72c-.78.78-.78 2.05 0 2.83L4 21.41c.39.39.9.59 1.41.59.51 0 1.02-.2 1.41-.59l7.78-7.78 2.81-2.81c.8-.78.8-2.07 0-2.86zM5.41 20L4 18.59l7.72-7.72 1.47 1.35L5.41 20z\"/>\n",
              "  </svg>\n",
              "      </button>\n",
              "      \n",
              "  <style>\n",
              "    .colab-df-container {\n",
              "      display:flex;\n",
              "      flex-wrap:wrap;\n",
              "      gap: 12px;\n",
              "    }\n",
              "\n",
              "    .colab-df-convert {\n",
              "      background-color: #E8F0FE;\n",
              "      border: none;\n",
              "      border-radius: 50%;\n",
              "      cursor: pointer;\n",
              "      display: none;\n",
              "      fill: #1967D2;\n",
              "      height: 32px;\n",
              "      padding: 0 0 0 0;\n",
              "      width: 32px;\n",
              "    }\n",
              "\n",
              "    .colab-df-convert:hover {\n",
              "      background-color: #E2EBFA;\n",
              "      box-shadow: 0px 1px 2px rgba(60, 64, 67, 0.3), 0px 1px 3px 1px rgba(60, 64, 67, 0.15);\n",
              "      fill: #174EA6;\n",
              "    }\n",
              "\n",
              "    [theme=dark] .colab-df-convert {\n",
              "      background-color: #3B4455;\n",
              "      fill: #D2E3FC;\n",
              "    }\n",
              "\n",
              "    [theme=dark] .colab-df-convert:hover {\n",
              "      background-color: #434B5C;\n",
              "      box-shadow: 0px 1px 3px 1px rgba(0, 0, 0, 0.15);\n",
              "      filter: drop-shadow(0px 1px 2px rgba(0, 0, 0, 0.3));\n",
              "      fill: #FFFFFF;\n",
              "    }\n",
              "  </style>\n",
              "\n",
              "      <script>\n",
              "        const buttonEl =\n",
              "          document.querySelector('#df-1a16a385-5a64-4be2-8751-6234954b1f68 button.colab-df-convert');\n",
              "        buttonEl.style.display =\n",
              "          google.colab.kernel.accessAllowed ? 'block' : 'none';\n",
              "\n",
              "        async function convertToInteractive(key) {\n",
              "          const element = document.querySelector('#df-1a16a385-5a64-4be2-8751-6234954b1f68');\n",
              "          const dataTable =\n",
              "            await google.colab.kernel.invokeFunction('convertToInteractive',\n",
              "                                                     [key], {});\n",
              "          if (!dataTable) return;\n",
              "\n",
              "          const docLinkHtml = 'Like what you see? Visit the ' +\n",
              "            '<a target=\"_blank\" href=https://colab.research.google.com/notebooks/data_table.ipynb>data table notebook</a>'\n",
              "            + ' to learn more about interactive tables.';\n",
              "          element.innerHTML = '';\n",
              "          dataTable['output_type'] = 'display_data';\n",
              "          await google.colab.output.renderOutput(dataTable, element);\n",
              "          const docLink = document.createElement('div');\n",
              "          docLink.innerHTML = docLinkHtml;\n",
              "          element.appendChild(docLink);\n",
              "        }\n",
              "      </script>\n",
              "    </div>\n",
              "  </div>\n",
              "  "
            ]
          },
          "metadata": {},
          "execution_count": 5
        }
      ],
      "source": [
        "data = pd.read_csv('macys_com.csv')\n",
        "data"
      ],
      "id": "c38c2816"
    },
    {
      "cell_type": "code",
      "execution_count": null,
      "metadata": {
        "colab": {
          "base_uri": "https://localhost:8080/",
          "height": 424
        },
        "id": "80d13fca",
        "outputId": "250a9247-69f5-4fc9-eb6d-e0a925e77a05"
      },
      "outputs": [
        {
          "output_type": "execute_result",
          "data": {
            "text/plain": [
              "                                            product_name  review_count\n",
              "0                                ID String Bikini QF1754           NaN\n",
              "1                                ID String Bikini QF1754           NaN\n",
              "2                                ID String Bikini QF1754           NaN\n",
              "3      CK Black Collection Embrace Lace-Waist Thong Q...           NaN\n",
              "4                              Halo Lace Boyshort 870205           2.0\n",
              "...                                                  ...           ...\n",
              "40892             Sport High-Impact Underwire Bra 855170           5.0\n",
              "40893              Wild Thistle French Lace Brief 4Y2234           NaN\n",
              "40894            Plus Size Signature Lace Vikini 482374X           1.0\n",
              "40895                            Modern Logo Pants D1632           NaN\n",
              "40896                            Modern Logo Pants D1632           NaN\n",
              "\n",
              "[40897 rows x 2 columns]"
            ],
            "text/html": [
              "\n",
              "  <div id=\"df-cfd7665a-0cdb-4b76-af19-1cc4c95e1186\">\n",
              "    <div class=\"colab-df-container\">\n",
              "      <div>\n",
              "<style scoped>\n",
              "    .dataframe tbody tr th:only-of-type {\n",
              "        vertical-align: middle;\n",
              "    }\n",
              "\n",
              "    .dataframe tbody tr th {\n",
              "        vertical-align: top;\n",
              "    }\n",
              "\n",
              "    .dataframe thead th {\n",
              "        text-align: right;\n",
              "    }\n",
              "</style>\n",
              "<table border=\"1\" class=\"dataframe\">\n",
              "  <thead>\n",
              "    <tr style=\"text-align: right;\">\n",
              "      <th></th>\n",
              "      <th>product_name</th>\n",
              "      <th>review_count</th>\n",
              "    </tr>\n",
              "  </thead>\n",
              "  <tbody>\n",
              "    <tr>\n",
              "      <th>0</th>\n",
              "      <td>ID String Bikini QF1754</td>\n",
              "      <td>NaN</td>\n",
              "    </tr>\n",
              "    <tr>\n",
              "      <th>1</th>\n",
              "      <td>ID String Bikini QF1754</td>\n",
              "      <td>NaN</td>\n",
              "    </tr>\n",
              "    <tr>\n",
              "      <th>2</th>\n",
              "      <td>ID String Bikini QF1754</td>\n",
              "      <td>NaN</td>\n",
              "    </tr>\n",
              "    <tr>\n",
              "      <th>3</th>\n",
              "      <td>CK Black Collection Embrace Lace-Waist Thong Q...</td>\n",
              "      <td>NaN</td>\n",
              "    </tr>\n",
              "    <tr>\n",
              "      <th>4</th>\n",
              "      <td>Halo Lace Boyshort 870205</td>\n",
              "      <td>2.0</td>\n",
              "    </tr>\n",
              "    <tr>\n",
              "      <th>...</th>\n",
              "      <td>...</td>\n",
              "      <td>...</td>\n",
              "    </tr>\n",
              "    <tr>\n",
              "      <th>40892</th>\n",
              "      <td>Sport High-Impact Underwire Bra 855170</td>\n",
              "      <td>5.0</td>\n",
              "    </tr>\n",
              "    <tr>\n",
              "      <th>40893</th>\n",
              "      <td>Wild Thistle French Lace Brief 4Y2234</td>\n",
              "      <td>NaN</td>\n",
              "    </tr>\n",
              "    <tr>\n",
              "      <th>40894</th>\n",
              "      <td>Plus Size Signature Lace Vikini 482374X</td>\n",
              "      <td>1.0</td>\n",
              "    </tr>\n",
              "    <tr>\n",
              "      <th>40895</th>\n",
              "      <td>Modern Logo Pants D1632</td>\n",
              "      <td>NaN</td>\n",
              "    </tr>\n",
              "    <tr>\n",
              "      <th>40896</th>\n",
              "      <td>Modern Logo Pants D1632</td>\n",
              "      <td>NaN</td>\n",
              "    </tr>\n",
              "  </tbody>\n",
              "</table>\n",
              "<p>40897 rows × 2 columns</p>\n",
              "</div>\n",
              "      <button class=\"colab-df-convert\" onclick=\"convertToInteractive('df-cfd7665a-0cdb-4b76-af19-1cc4c95e1186')\"\n",
              "              title=\"Convert this dataframe to an interactive table.\"\n",
              "              style=\"display:none;\">\n",
              "        \n",
              "  <svg xmlns=\"http://www.w3.org/2000/svg\" height=\"24px\"viewBox=\"0 0 24 24\"\n",
              "       width=\"24px\">\n",
              "    <path d=\"M0 0h24v24H0V0z\" fill=\"none\"/>\n",
              "    <path d=\"M18.56 5.44l.94 2.06.94-2.06 2.06-.94-2.06-.94-.94-2.06-.94 2.06-2.06.94zm-11 1L8.5 8.5l.94-2.06 2.06-.94-2.06-.94L8.5 2.5l-.94 2.06-2.06.94zm10 10l.94 2.06.94-2.06 2.06-.94-2.06-.94-.94-2.06-.94 2.06-2.06.94z\"/><path d=\"M17.41 7.96l-1.37-1.37c-.4-.4-.92-.59-1.43-.59-.52 0-1.04.2-1.43.59L10.3 9.45l-7.72 7.72c-.78.78-.78 2.05 0 2.83L4 21.41c.39.39.9.59 1.41.59.51 0 1.02-.2 1.41-.59l7.78-7.78 2.81-2.81c.8-.78.8-2.07 0-2.86zM5.41 20L4 18.59l7.72-7.72 1.47 1.35L5.41 20z\"/>\n",
              "  </svg>\n",
              "      </button>\n",
              "      \n",
              "  <style>\n",
              "    .colab-df-container {\n",
              "      display:flex;\n",
              "      flex-wrap:wrap;\n",
              "      gap: 12px;\n",
              "    }\n",
              "\n",
              "    .colab-df-convert {\n",
              "      background-color: #E8F0FE;\n",
              "      border: none;\n",
              "      border-radius: 50%;\n",
              "      cursor: pointer;\n",
              "      display: none;\n",
              "      fill: #1967D2;\n",
              "      height: 32px;\n",
              "      padding: 0 0 0 0;\n",
              "      width: 32px;\n",
              "    }\n",
              "\n",
              "    .colab-df-convert:hover {\n",
              "      background-color: #E2EBFA;\n",
              "      box-shadow: 0px 1px 2px rgba(60, 64, 67, 0.3), 0px 1px 3px 1px rgba(60, 64, 67, 0.15);\n",
              "      fill: #174EA6;\n",
              "    }\n",
              "\n",
              "    [theme=dark] .colab-df-convert {\n",
              "      background-color: #3B4455;\n",
              "      fill: #D2E3FC;\n",
              "    }\n",
              "\n",
              "    [theme=dark] .colab-df-convert:hover {\n",
              "      background-color: #434B5C;\n",
              "      box-shadow: 0px 1px 3px 1px rgba(0, 0, 0, 0.15);\n",
              "      filter: drop-shadow(0px 1px 2px rgba(0, 0, 0, 0.3));\n",
              "      fill: #FFFFFF;\n",
              "    }\n",
              "  </style>\n",
              "\n",
              "      <script>\n",
              "        const buttonEl =\n",
              "          document.querySelector('#df-cfd7665a-0cdb-4b76-af19-1cc4c95e1186 button.colab-df-convert');\n",
              "        buttonEl.style.display =\n",
              "          google.colab.kernel.accessAllowed ? 'block' : 'none';\n",
              "\n",
              "        async function convertToInteractive(key) {\n",
              "          const element = document.querySelector('#df-cfd7665a-0cdb-4b76-af19-1cc4c95e1186');\n",
              "          const dataTable =\n",
              "            await google.colab.kernel.invokeFunction('convertToInteractive',\n",
              "                                                     [key], {});\n",
              "          if (!dataTable) return;\n",
              "\n",
              "          const docLinkHtml = 'Like what you see? Visit the ' +\n",
              "            '<a target=\"_blank\" href=https://colab.research.google.com/notebooks/data_table.ipynb>data table notebook</a>'\n",
              "            + ' to learn more about interactive tables.';\n",
              "          element.innerHTML = '';\n",
              "          dataTable['output_type'] = 'display_data';\n",
              "          await google.colab.output.renderOutput(dataTable, element);\n",
              "          const docLink = document.createElement('div');\n",
              "          docLink.innerHTML = docLinkHtml;\n",
              "          element.appendChild(docLink);\n",
              "        }\n",
              "      </script>\n",
              "    </div>\n",
              "  </div>\n",
              "  "
            ]
          },
          "metadata": {},
          "execution_count": 6
        }
      ],
      "source": [
        "data = data[['product_name', 'review_count']]\n",
        "data"
      ],
      "id": "80d13fca"
    },
    {
      "cell_type": "code",
      "execution_count": null,
      "metadata": {
        "colab": {
          "base_uri": "https://localhost:8080/"
        },
        "id": "61d6c657",
        "outputId": "86bc6a13-dd05-40b3-f555-6f875dc2d5e0"
      },
      "outputs": [
        {
          "output_type": "stream",
          "name": "stderr",
          "text": [
            "<ipython-input-7-360e47fcbf67>:1: SettingWithCopyWarning: \n",
            "A value is trying to be set on a copy of a slice from a DataFrame.\n",
            "Try using .loc[row_indexer,col_indexer] = value instead\n",
            "\n",
            "See the caveats in the documentation: https://pandas.pydata.org/pandas-docs/stable/user_guide/indexing.html#returning-a-view-versus-a-copy\n",
            "  data['review_count'] = data['review_count'].fillna(0)\n"
          ]
        }
      ],
      "source": [
        "data['review_count'] = data['review_count'].fillna(0)"
      ],
      "id": "61d6c657"
    },
    {
      "cell_type": "code",
      "execution_count": null,
      "metadata": {
        "colab": {
          "base_uri": "https://localhost:8080/"
        },
        "id": "2703dc43",
        "outputId": "a87048d5-7d28-4374-a9a1-f3098c71720c"
      },
      "outputs": [
        {
          "output_type": "execute_result",
          "data": {
            "text/plain": [
              "0"
            ]
          },
          "metadata": {},
          "execution_count": 8
        }
      ],
      "source": [
        "data['product_name'].isnull().sum()"
      ],
      "id": "2703dc43"
    },
    {
      "cell_type": "code",
      "execution_count": null,
      "metadata": {
        "id": "569ac8a2"
      },
      "outputs": [],
      "source": [
        "# Проверка содержания столбцов:"
      ],
      "id": "569ac8a2"
    },
    {
      "cell_type": "code",
      "execution_count": null,
      "metadata": {
        "colab": {
          "base_uri": "https://localhost:8080/"
        },
        "id": "f6d14c40",
        "outputId": "bf286088-159b-4ab5-961f-b4c3fcf6cd1c",
        "scrolled": true
      },
      "outputs": [
        {
          "output_type": "stream",
          "name": "stdout",
          "text": [
            "['ID String Bikini QF1754'\n",
            " 'CK Black Collection Embrace Lace-Waist Thong QF1621'\n",
            " 'Halo Lace Boyshort 870205' 'After Midnight Retro Mesh Bralette 9K7124'\n",
            " 'Perfectly Fit Memory Touch Racerback Bra QF1092'\n",
            " 'Embrace Lace Contour Bra 853191'\n",
            " 'Black Devotion Satin and Lace Thong QF1772'\n",
            " 'Perfectly Fit Multi-Way Bra QF1121' 'Ciao Bella Lace Bralette 910244'\n",
            " 'Embrace Lace Chemise 814191' 'Bodysuede Seamless Full-Figure Bra 85185'\n",
            " 'Logo Hoodie QS5670' 'Seductive Comfort Lace Demi Bra QF1444'\n",
            " 'CK Black Endless Plunge Push-Up Lace Bra QF1875'\n",
            " 'b.active Low-Impact Underwire Sports Bra 953199'\n",
            " 'Sport High-Impact Underwire Bra 855170'\n",
            " 'Signature Lace-Trim Demi Bra QF1417'\n",
            " 'Beauty Back Full Figure Lace Bra 76382' 'Modern Logo Pants D1632'\n",
            " 'Logo Hipster QF1570' 'Retro Chic Contour Bra 853186'\n",
            " 'Floral-Lace-Trim Boyshort 681211'\n",
            " 'Wild Seduction Embroidered Balconette 851242'\n",
            " 'b.provocative Racerback Bralette 910222'\n",
            " 'CK Black Collection Spacer Sling Balconette Bra QF1197'\n",
            " 'After Midnight Retro Mesh Open Panel Thong 9K1974'\n",
            " 'b.inspired V-Neck Lace Bralette 910251'\n",
            " 'After Midnight Open Panel Cheeky Hipster 482921' 'Halo Thong 879205'\n",
            " 'Colorblocked Medium-Impact Sports Bra'\n",
            " 'CK Black Collection Push-Up Racerback Balconette QF1620'\n",
            " 'b.adorable Lace-Waistband Thong 933182'\n",
            " 'Beauty Back Full Coverage Bra 75345' 'CK Black Satin Demi Bra QF1614'\n",
            " 'Shimmer-Print Medium-Support Sports Bra' 'Sheer Lace Bralette QF1592'\n",
            " 'Dahlia Embroidered Mesh Bralette 297132'\n",
            " 'Illusions Seamless Thong QD3547' 'Signature Lace Camisole 1390L'\n",
            " 'Pretty Leopard-Print Bralette 9G7426'\n",
            " 'Medium-Impact Mesh-Panel Sports Bra 852214'\n",
            " 'Embrace Embroidered Lace Thong 842191'\n",
            " 'After Midnight Solid Open Panel Thong 481001'\n",
            " 'Retro Lace Bralette 9K7406' 'Seductive Comfort Lace-Waist Bikini QF1200'\n",
            " 'Golden Leopard Sheer Lace Bralette 4F7426' 'Retro Thong 9K1926'\n",
            " 'Linger Sheer Lace Bikini QF1872'\n",
            " 'Basic Beauty Full-Figure Underwire Bra 855192'\n",
            " 'CK One Logo Thong QF1368' 'Seductive Comfort Lace Thong QF1199'\n",
            " 'Heather Jersey Low-Rise Thong 681501'\n",
            " 'Signature Lace Original Rise Thong 5-Pack Set 4811F'\n",
            " 'Printed Low-Rise Lace Thong' 'Radiant Cotton Thong QD3539'\n",
            " 'Carousel Cotton Bikini 3-Pack QD3588' 'Most Desired Hipster 978271'\n",
            " 'b.provocative Contrast-Lace Bra 951222'\n",
            " 'Perfectly Fit Lace-Trim Bikini QF1830' 'Invisibles T-Shirt Bra QF1184'\n",
            " 'ID High-Neck Bralette QF1778' 'Full-Coverage Scallop-Trim Bra QF1714'\n",
            " 'Icon Half Slip F3662' 'Push-Up Plunge Bra QF1715'\n",
            " 'Plus Size Printed Signature Lace Vikini'\n",
            " 'Visual Effects Minimizer Bra 857210' 'Classic Mesh Bralette 257104'\n",
            " 'Medium-Support Logo Sports Bra' 'Tease Customized Lift Demi Bra QF1640'\n",
            " 'Colorblocked Lattice-Back Medium-Support Sports Bra'\n",
            " 'Skinsense High-Cut Seamless Brief 871254' 'B-Smooth Brief 838175'\n",
            " 'After Midnight Signature Lace Garter Belt 48B104'\n",
            " 'Cut-Out Lace Hipster QF1593'\n",
            " 'Plus Size After Midnight Open Gusset Cheeky Hipster 482921X'\n",
            " 'Modern Reversed-Logo Bikini QF1677'\n",
            " 'Tea Rose Sheer Lace Boyshort 6W1284' 'Brenton Stripe Bralette 2V7045'\n",
            " 'Signature Lace-Trim Chemise QS5409'\n",
            " 'CK Black Embrace Lightly Lined Multiway Longline Balconette QF1619'\n",
            " \"Rose D'Or Embroidered Bralette 6Y7456\"\n",
            " 'Signature Lace-Trim Bikini QF1422' \"b.wow'd Push-Up Bra 958287\"\n",
            " 'Plus Size After Midnight Peekaboo Lace Babydoll and G-String Thong 9C6814X'\n",
            " 'Embrace Lace Bikini 64391' 'B-Smooth Wireless Bralette 835275'\n",
            " 'Pure Seamless Bikini QD3545' 'Plus Size Long Sleeve Top 128LX'\n",
            " 'Naked Glamour Strapless Push Up Bra F3493'\n",
            " 'CK Black Collection Hipster QF1205'\n",
            " 'B.Smooth High-Cut Brief 3-Pack 870275'\n",
            " 'ID Logo Triangle Bralette QF1752' \"b.delight'd Strapless Bra 954192\"\n",
            " 'b.provocative Sheer Lace Thong 945222'\n",
            " 'CK Black Endless Plunge Push-Up Bra QF1783'\n",
            " 'Beauty Back Full Coverage Wireless Bra 72345'\n",
            " 'Modern Low-Impact Bralette QF1659'\n",
            " 'Coloblocked Low-Impact Longline Sports Bra'\n",
            " 'Holiday Checkered Crossover Lace Bralette 6E7216'\n",
            " 'Full Figure Simple Shaping Minimizer Bra 857109'\n",
            " 'Rudi Wrap Signature Lace Bralette 487431'\n",
            " 'Amazing Assets Push-Up Bra 858220' 'Open Panel Keyhole Teddy 4X8404'\n",
            " 'Invisibles Hipster D3429' 'Tropical Bloom Sheer Lace Bralette 4A7402'\n",
            " 'B-Smooth High-Cut Brief 834175'\n",
            " 'Signature Lace Original Rise Thong 4811' 'Awareness Wireless Bra 85276'\n",
            " 'Perfectly Fit Wireless Contour Convertible Bra F2781'\n",
            " 'Sheer-Lace Plunge Push-Up Bra QF1532'\n",
            " 'Full-Figure Medium-Impact Sports Bra 76500'\n",
            " 'Perfectly Fit Modern T-Shirt Bra F3837'\n",
            " 'Plus Size Signature Lace Original Rise Thong 5-Pack Set 4811XF'\n",
            " 'Retro Vikini 9K2124' 'CK Black Endless Silk Lace Robe QS5679'\n",
            " 'So Sophisticated Chemise 814287'\n",
            " 'b.cherished Lace-Wing Contour Bra 953243'\n",
            " 'Ciao Bella Mesh-Lace Thong 976144'\n",
            " 'Beauty Back Full-Figure Contour Bra 76380'\n",
            " 'CK Black Collection Daring Bodysuit QF1649'\n",
            " 'How Perfect Soft Cup Bra 852189' 'Halo Lace Contour Spacer Bra 853205'\n",
            " 'Plus Size Rose Red Retro Lace Thong 3J1926X' 'Modern Logo Bikini QF1671'\n",
            " 'Signature Lace Bike Shorts 481252' 'b.sultry Sheer Mesh Bikini 943261'\n",
            " 'Signature High-Waist Lace Betty Brief 482222' 'Lace Kiss Chemise 914282'\n",
            " 'Visual Effects Firm Control Body Shaper 802210'\n",
            " 'Halo Strapless Bra 854205' 'Seductive Comfort Customized Lift Bra F2892'\n",
            " 'CK One Logo Bikini QF1369' 'Shimmer-Print Low-Impact Sports Bra'\n",
            " 'Sheer Marquisette Underwire Unlined Demi Bra QF1680'\n",
            " 'Red Carpet Full Figure Strapless Bra 854119'\n",
            " 'Full Figure Halo Lace Bra 65547' 'CK Logo Bralette QF1660'\n",
            " 'Seamless Hipster Boyshort QD3546'\n",
            " 'CK Black Endless Sheer Lace Thong QF1787' 'Most Desired Bikini 978171'\n",
            " 'Visual Effects Wire-Free Minimizer Bra 852210'\n",
            " 'Plus Size Signature Lace Retro Vikini 9K2124X'\n",
            " 'Coquette Lace Thong QD3536' 'b.gorgeous Thong 976236'\n",
            " 'b.sultry Lace Thong 976361'\n",
            " 'Burnout Radical Embroidered-Logo Bralette QF1869'\n",
            " 'b.splendid Wireless Push-Up Bra 952255'\n",
            " 'Rose-Appliqué Babydoll With G-String 256006'\n",
            " 'Holiday Checkered Brazilian Lace Bikini 6E2106'\n",
            " 'Low-Impact Logo Printed Longline Bralette QF1903'\n",
            " 'Intense Power Low-Impact Mesh-Racerback Bralette QF1540'\n",
            " 'b.captivating Front Close Racerback Bra 953203'\n",
            " 'Printed Low-Impact Sports Bra' 'I Do Low Rise Thong 6510'\n",
            " 'ID Convertible Balconette Push-Up Bra QF1750'\n",
            " 'Tea Rose Lace Camisole 6W4254'\n",
            " 'Contour High-Impact Underwire Sports Bra 853209'\n",
            " 'Lace Padded Bralette 487004' 'Low-Impact Retro Logo Bralette QF1642'\n",
            " 'Plus Size Cross-Dye Lace Chemise 595304X' 'Modern Logo Leggings QS5571'\n",
            " 'How Perfect Full-Figure Wireless Bra 852389' 'Bare Boyshort 6J1281'\n",
            " 'Venetian Lace Bralette 487442' 'Seamless Illusions Boyshort QD3616'\n",
            " 'CK Black Collection Temptation Floral-Embroidered Push-Up Bra QF1626'\n",
            " 'Comfort Bra QF1523' 'Medium-Support Heathered Racerback Sports Bra'\n",
            " 'Signature Lace-Trim Bra QF1418'\n",
            " 'Plus Size Flora Retro Lace Thong 7M1921X'\n",
            " 'New Attitude Mesh Bralette 2G7011'\n",
            " 'Embrace High-Cut Embroidered Brief 841191'\n",
            " 'Iron Strength Logo Thong QF1520'\n",
            " 'After Midnight Collection Lace-Up Lace Low-Rise Thong 481336'\n",
            " 'Radical Embroidered-Logo Bikini QF1870'\n",
            " 'Halo Lace Molded Underwire Bra 851205' 'Ciao Bella Tanga 945144'\n",
            " 'La Femme Contour Bra 853117' 'Fits Me! Fits You! Bikini 978181'\n",
            " 'Retro Chic Full-Figure Underwire Bra 855186'\n",
            " 'Wireless High-Impact Sports Bra 852218' 'Basic Benefits Lace Bra 855290'\n",
            " 'Hoodie QS5667' 'Iron Strength Low-Impact Logo Bralette QF1537'\n",
            " 'Sweetheart Mesh Lace Bralette 5P7106'\n",
            " 'Low-Impact Modern Logo Bralette QF3647'\n",
            " 'Body by Wacoal Racerback Underwire Bra 65124'\n",
            " 'Essence T-Shirt Bra QF1650' 'Flattering Lift Underwire Bra 75260'\n",
            " 'Signature Low-Rise Lace Thong 631581' 'ID Cotton Logo Thong QF1753'\n",
            " 'b.enticing Plunge Lace Bra 953237' 'b.sultry Lace Bikini 978361'\n",
            " 'Cross-Dyed Crossover Bralette 597801'\n",
            " 'After Midnight Signature Lace Peek-A-Boo Bralette 487831'\n",
            " 'Cross-Dyed Low Rise Lace Thong 591054' 'Exposed Logo Boyshort QF1513'\n",
            " 'Signature Lace-Trim Flirty Push-Up Bra QF1416'\n",
            " 'b.adorable Lace-Trim Bralette 935182'\n",
            " 'Ciao Bella Mesh-Lace Bikini 978144'\n",
            " 'Plus Size After Midnight Solid Open Panel Thong 481001X'\n",
            " 'Lace Kiss Garter Belt 977182' 'Lace Longline Bra QF1876'\n",
            " 'Modern Allover-Logo Pajama Pants QS5572'\n",
            " 'Embrace Lace Soft Cup Wireless Bra 852191' 'Lace Kiss Hipster 978282'\n",
            " 'Icon Perfect Push Up Bra F3647' 'Cotton ID Logo-Waistband Tanga QF1760'\n",
            " 'CK Logo Bikini QF1675' \"Bare Lace Bralette QF4046, Only at Macy's\"\n",
            " 'CK Black Collection Embrace Chemise QS5553'\n",
            " 'Check Please Original-Rise Lace Thong 7Q1181'\n",
            " 'Signature Lace Low Rise Thong 4911' 'Lace Kiss Thong 970182'\n",
            " 'Cross-Dye Lace Bralette 597891'\n",
            " 'Firm Control Try a Little Slenderness Hidden Underwire Seamless Body Shaper 801165'\n",
            " 'Bodysuede Ultra Full-Figure Bra 85814' 'b.gorgeous Bralette 910236'\n",
            " 'Signature Lace Keyhole Camisole 484412'\n",
            " 'Ciao Bella Lace Bralette 916144'\n",
            " 'Firm Control Smooth Complexion Body Shaper 802251'\n",
            " 'Signature Lace French Brief 461' 'Embrace Lace Garter Belt 848291'\n",
            " 'Invisibles with Lace T-Shirt Bra QF1528'\n",
            " 'High-Impact Zipper-Front Sports Bra 853222'\n",
            " 'b.sultry Balconette Bra 953261' 'Basic Beauty Contour Spacer Bra 853192'\n",
            " 'ID Mesh Logo Thong QF1368' 'Lace Affair Sheer Lace Bra 851256'\n",
            " 'Dual Control Underwire Bra 855261' 'Printed Retro Lace Vikini'\n",
            " 'Retro Chic Wireless Bra 852186' 'High-Waist Sheer Lace Cheekini QF1776'\n",
            " 'b.splendid Seamless Thong 976255' 'Logo Bikini QF1881'\n",
            " 'Bare Godiva Thong 6J1921' 'b.gorgeous Chemise 914236'\n",
            " 'b.adorable Lace-Waistband Bikini 932182'\n",
            " 'Cross-Dyed Lace Chemise 595304'\n",
            " 'Flora Original-Rise Packaged Lace Thong 7M1181P'\n",
            " 'Signature Lace Bralette 113'\n",
            " 'Seductive Comfort Lace Convertible Bra QF1437'\n",
            " 'Stark Beauty Rose-Lace Molded Bra 855225'\n",
            " 'CK Black Endless Crisscross-Mesh Hipster QF1789'\n",
            " 'Check Please Lace Boyshort 7Q1281'\n",
            " 'Sheer Marquisette Lace-Trim Hipster QF1691'\n",
            " 'Stark Beauty Rose-Lace Brief 841225' 'b.cherished Lace Bra 951243'\n",
            " 'So Sophisticated Hipster 845287'\n",
            " 'b.adorable Lace-Waistband Hipster 938182'\n",
            " 'Basic Beauty Plunge Bra 853292' 'Plus Size French Brief 461X'\n",
            " 'Ali Crop High-Neck Lace Bralette 487961' 'Icon Modern T-Shirt Bra F3646'\n",
            " 'Lace Triangle Bralette QF1846'\n",
            " 'Scallop-Trim Add-a-Size Balconette QF1725' 'Halo Lace Bikini 878205'\n",
            " 'Valerie Signature Lace Bralette 487884' 'Long Sleeve Top QS5718'\n",
            " 'Invisibles Thong 3-Pack QD3558'\n",
            " 'Low-Impact Exposed Logo Bralette QF1512' 'Kit Crossover Bralette 7C7044'\n",
            " 'Exquisitely You Breathable Full Figure Underwire 76063'\n",
            " 'Seamless Illusions Stretch Thong QD3614' 'b.sleek Thong 976218'\n",
            " 'Lace Affair Contour Bra 853256' \"Rose D'Or Embroidered Brief 6Y2163\"\n",
            " 'b.splendid Seamless Bralette 911255' 'Bare Eve Thong 6J1661'\n",
            " 'Eyelash-Lace Bodysuit 4T8504' 'b.enticing Allover-Lace Boyshort 945237'\n",
            " 'Body Caress Full Coverage Contour Bra 75335'\n",
            " 'Low-Impact Strappy Sports Bra' 'Modern Logo Cotton Boyshort QF3648'\n",
            " 'CK Black Collection Temptation Silk Romper QS5495'\n",
            " 'Cross-Dyed Lace Original Rise Thong 591104'\n",
            " 'Low-Impact Logo Bralette F3785'\n",
            " 'Stark Beauty Rose-Lace Contour Bra 853225'\n",
            " 'Sheer Marquisette Lace-Trim Bodysuit QF1843' 'Halo Soft Cup Bra 811205'\n",
            " 'CK Black Collection Temptation Floral-Embroidered Plunge Bra QF1627'\n",
            " 'Scallop-Trim Demi Bra QF1716' 'b.enticing Strapless Lace Bra 954237'\n",
            " 'B.Sumptuous Floral-Lace Underwire Demi Bra 951235'\n",
            " 'Perfectly Fit Memory Touch Push Up Bra QF1120'\n",
            " 'After Midnight Collection Lace-Up Lace Bralette 487136'\n",
            " 'Skinsense Brief 875254' 'In Bloom Tanga 845237'\n",
            " 'Bahama Mama Sheer Lace Bralette 957902'\n",
            " 'Plus Size Signature Lace Camisole 1390LX'\n",
            " 'Sleek Model G-String Thong D3509' 'Rudi Brazilian Bikini 482171'\n",
            " 'Exposed Logo Shifting Panes Boyshort QF1513' 'Sleek String Bikini D3510'\n",
            " 'Flattering Lift Full Figure Underwire Bra 76262'\n",
            " 'Devotion Lace and Satin Longline Bra QF1769'\n",
            " 'CK Black Sheer-Lace Bra QF1615'\n",
            " 'Sheer Marquisette Lace-Trimmed Unlined Bralette QF1842'\n",
            " 'Brenton Striped Brazilian Lace Bikini 2V2105'\n",
            " 'Check Please Original-Rise Packaged Lace Thong 7Q1181P'\n",
            " 'Plus Size Bodysuit 488134X' 'Jogger Pants QS5716'\n",
            " 'Signature Lace Chemise 485776' 'The Insider Sheer Lace Bra 851212'\n",
            " 'Rose-Appliqué Bralette 257116' 'b.amazing Lace-Trim Balconette 953224'\n",
            " 'CK Black Embrace Hipster With Removable Garters QF1623'\n",
            " 'Ombré Triangle Lace Bralette QF1917'\n",
            " 'Blue Roses Sheer Lace Boyshort 1E1284' 'Invisibles Thong D3428'\n",
            " 'Awareness Full-Figure Seamless Underwire Bra 85567'\n",
            " 'Retro Chic High-Cut Brief 841186'\n",
            " 'Sheer Marquisette Lightly-Lined Demi Bra QF1839'\n",
            " 'CK Black Collection Embrace Velvet and Lace Garter QF1625'\n",
            " 'Beauty Back Lace Full Coverage Underwire Bra 75346'\n",
            " 'Lounge Pullover Bra QF1804' 'Linger Lace Bralette QF1793'\n",
            " 'Cross-Dyed Lace Boyshort 591204' 'Snowflake Sheer Lace Bralette 5L7046'\n",
            " 'CK Collection Black Daring Silk Chemise QS5552'\n",
            " 'Seamless Logo Demi Bra QF1631'\n",
            " 'Low-Impact Retro Racerback Logo Bralette QF1643'\n",
            " 'Heather Fashion Lace-Racerback Bralette 687802'\n",
            " 'Rose-Appliqué Bikini 252106'\n",
            " 'Sheer Marquisette Logo-Trim String Bikini QF1682'\n",
            " 'So Sophisticated Underwire Bra 851287'\n",
            " 'After Midnight Collection Lace-Up Lace Bodysuit 488486'\n",
            " 'CK Black Endless Sheer Lace Bodysuit QF1790'\n",
            " 'b.inspired Contour Stretch Bra 953251'\n",
            " 'b.sultry Longline Lace Bra 959261'\n",
            " 'Pretty And Paisley Sheer Lace Bralette 4W7424' 'Logo Thong QF1880'\n",
            " 'Logo Bikini F3787' 'Flattering Lift Full Figure Lace Bra 71262'\n",
            " 'Plus Size Retro Thong 9K1926X'\n",
            " 'Signature Lace Plus Size Original Rise Thong 4811X'\n",
            " 'b.provocative Lace-Trim Bra 953222'\n",
            " 'Beauty Back Full Figure Strapless Bra 74380'\n",
            " 'Smoothing Comfort Body Caress Brief 13261'\n",
            " 'Illuminations High-Cut Brief 13108' 'Signature Lace Boyshort 4812'\n",
            " 'Plus Size Leopard Nouveau Original Rise Thong 4X1181X'\n",
            " 'Body Caress Brief 13138'\n",
            " 'Full Figure Beauty Back Smoother Wireless Bra 71380'\n",
            " 'Retro Logo Cotton Boyshort QF1646' 'Low-Impact Tie-Dyed Sports Bra'\n",
            " 'Modern Logo Boyshort QF1662' 'Embrace Embroidered Boyshort 67491'\n",
            " 'Radiant Cotton Bikini QD3540' 'Side Smoothing Contour Bra 853281'\n",
            " 'ID Cotton Logo Triangle Bralette QF1758'\n",
            " 'Illumination Full Figure Contour Bra 76338'\n",
            " 'Basic Beauty Wireless Contour 856192'\n",
            " 'Slimline Seamless Minimizer Bra 85154'\n",
            " 'Embrace Lace Underwire Bra 65191' 'Perfectly Fit Lace-Trim Bra QF1712'\n",
            " 'Lounge Shorts QS5717'\n",
            " 'Plus Size After Midnight Open Panel Cheeky Hipster 4X2921X'\n",
            " 'Lace Affair Soft-Cup Bra 852256' 'Classic Mesh Boyshort 251204'\n",
            " 'CK Black Collection Temptation Floral-Embroidered Thong QF1628'\n",
            " 'Wild Thistle French Lace Brief 4Y2234' 'Body Base Shorty 874228'\n",
            " 'Body by Wacoal Seamless Underwire 65115'\n",
            " 'Plus Size V-Neck Leopard Chemise 4X5214X' 'Zoned Long-Leg Shaper 804258'\n",
            " 'Bodysuede Lace Leg High Cut Brief 89371'\n",
            " 'Amazing Assets Contour Bra 853220' 'Bare Lace Hipster QD3597'\n",
            " 'Wild Seduction Embroidered Thong 842242' 'Full Bloom Hipster 945133'\n",
            " 'Plus Size Boyshorts 481281X' 'Petite Embrace Lace Push Up Bra 75891'\n",
            " 'Pure Seamless Thong QD3544' 'Awareness Lace High-Cut Brief 871101'\n",
            " 'Body Caress High Cut 13137' 'ID Logo Mesh-Panel Hipster QF1780'\n",
            " 'b.inspired Convertible Push-Up Bra 958251' 'Body By Soft Cup Bra 852215'\n",
            " 'b.splendid Heather-Print Bra 953255'\n",
            " 'Perfectly Yours Ravissant Nylon Brief 15712' 'Logo Boyshort F3788'\n",
            " 'Icon Full Slip F3661' 'b.active Low-Impact Soft Cup Sports Bra 952310'\n",
            " 'Bottoms Up Bikini D3447' 'Radiant Logo Thong 3-Pk. QD3590'\n",
            " 'Smoothing Comfort Brief Body Caress Lace Brief 13262'\n",
            " 'Sheer Enough Sheer Lace Hipster 845253'\n",
            " 'Organic Cotton Plus Size Conscience French Brief 892461X'\n",
            " 'CK Black Collection Temptation Floral-Embroidered High-Waisted Hipster QF1630'\n",
            " 'Bare Lace Thong QD3596' 'b.sultry Chemise 914261'\n",
            " 'After Midnight Open Panel Teddy 488406' 'Seamless Hipster 3-Pack QD3565'\n",
            " 'I Do Original Rise Thong 6511'\n",
            " 'Signature Lace Low Rise Thongs 5-Pack Set 4911F'\n",
            " 'B. Smooth Seamless Brief 3-Pack 870175' 'High-Cut Brief 871115'\n",
            " 'Feather Full Figure Sheer-Embroidery Underwire Bra 85121'\n",
            " 'Lace Kiss Thong 3-Pack 976282' 'Classic Reinvention Soft-Cup Bra 852263'\n",
            " 'Golden Leopard Sheer Lace Original-Rise Thong 4F1186'\n",
            " 'b.sultry Thong 942261' 'Reversible Mid-Impact Racerback Sports Bra'\n",
            " 'Embrace Lace Half Slip 813291' 'Body Caress Wireless 72335'\n",
            " 'Ciao Bella Balconette Bra 953144' 'Printed Original-Rise Lace Thong'\n",
            " 'Invisibles Hipster 3-Pack QD3559'\n",
            " 'Exquisitely You Lift Shape Full-Figure Lace Bra 76093'\n",
            " 'Sweetheart Mesh Lace Low-Rise Thong 5P1166'\n",
            " 'b.cherished Mesh and Lace Thong 942243' 'Linger Lace Thong QF1794'\n",
            " 'Seamless Bikini 3-Pack QD3564' 'Full-Figure Wireless Sports Bra 71500'\n",
            " 'Leopard Nouveau Original Rise Thong 4X1181'\n",
            " 'Illumination Full Coverage Underwire Bra 75339'\n",
            " 'ID Cotton Logo Boyshort QF1761' 'Basic Benefits Contour Lace Bra 853290'\n",
            " 'Snake Charmer Printed Medium-Support Sports Bra'\n",
            " 'b.provocative Contrast-Lace Bikini 943222'\n",
            " 'Halo Sheer Lace High-Cut Brief 870305'\n",
            " 'Faithfully Yours Strapless 954108'\n",
            " 'Classic Reinvention Full-Figure Spacer Bra 855263'\n",
            " 'Stars & Stripes Signature Original-Rise Sheer Lace Thong 8N1182'\n",
            " 'Zoned High-Waist Long-Leg Shaper 805258' 'Sheer Lace Thong QF1848'\n",
            " 'b.splendid Heather-Print Bikini 943255'\n",
            " 'Plus Size Signature Lace Vikini 482374X' 'Lace Kiss Bralette 910182'\n",
            " 'Flora Retro Lace Thong 7M1921' 'Lace Affair Scalloped Tanga 845256'\n",
            " 'Illusions Seamless Bikini QD3548'\n",
            " 'Perfectly Yours Cotton Classic Brief 15318'\n",
            " 'Low-Impact Racerback Sports Bra' 'Sheer Mesh Hipster 874115'\n",
            " 'Organic Cotton Low-Rise Lace Thong 891581'\n",
            " 'Seamless High-Cut Brief 13211'\n",
            " 'Visual Effects Firm Control Jacquard Bodybriefer 801210'\n",
            " 'Seamless Illusions Logo Bikini QD3615' 'Printed Retro Lace Thong'\n",
            " 'Lace Kiss Bikini 978182' 'Wrap Star Thong 976143'\n",
            " 'Body Base Brief 877228' 'Radiant Cotton Bikini 3-Pack QD3589'\n",
            " 'Heather Original-Rise Floral-Lace Thong 681801' 'Cheeky Hipster QD3538'\n",
            " 'Full Bloom Underwire Bra 951133' 'Illumination String Bikini 18108'\n",
            " 'Plus Size Queen Of Hearts Betty Lace Brief 6R2226X'\n",
            " 'Reversible Mid-Impact Sports Bra' 'Plus Size Cotton 3 Pack Brief 15867'\n",
            " 'Mesh-Band Bikini QF1596' 'b.inspired Lace Hipster 945251'\n",
            " 'CK Logo Boyshort QF1663'\n",
            " 'Plus Size After Midnight Open Panel Keyhole Teddy 488406X'\n",
            " 'Sheer Marquisette Smooth G-String QF1681'\n",
            " 'b.splendid Seamless Boyshort 978355' 'Most Desired Thong 976171'\n",
            " 'Lace-Trim Hipster D3448' 'Leopard Nouveau Low Rise Thong 4X1581'\n",
            " 'Signature Original-Rise Lace Thong 631181'\n",
            " 'Carousel Cotton Thong 3-Pack QD3587'\n",
            " 'Beauty Back Full Figure Contour Bra 76345'\n",
            " 'Reversible Seamless Medium-Impact Sports Bra'\n",
            " 'Check Please Low-Rise Packaged Lace Thong 7Q1581P'\n",
            " 'Seamless Smoothing Brief 13264'\n",
            " 'Exquisitely You Back-Smoother Crisscross Bra 76070'\n",
            " 'Plus Size Retro Leopard Thong 4X1922X'\n",
            " 'Illusions Seamless Boyshort QD3549'\n",
            " 'Basic Benefits Floral-Lace Boyshort 845290'\n",
            " 'Plus Size After Midnight Leopard Open Panel Thong 4X1001X'\n",
            " 'CK Performance Reversible Crossback Mid-Impact Sports Bra'\n",
            " 'Lace Affair Bikini 843256' 'Seamless Logo Bikini QF1569'\n",
            " 'Lace Kiss Panties 3-Pack 970282' 'Wrap Star Bikini 978143'\n",
            " 'Plus Size Betty Lace Brief 592224X'\n",
            " 'Mid-Impact Padded Racerback Sports Bra'\n",
            " 'Invisibles Hipster 3-Pack QD3532'\n",
            " 'Low-Impact Logo Longline Bralette QF1567' 'Signature Lace Vikini 482374'\n",
            " \"Bare Lace-Trim Bralette QF4045, Only at Macy's\"\n",
            " 'Cross-Dyed Lace Brazilian Bikini 592104' 'Zebra Low Rise Thong 441584'\n",
            " 'Logo To Go Low Rise Thong 631581' 'Ombré Sheer Lace Thong QF1918'\n",
            " 'Plus Size Vintage Blossom Signature Lace High-Waist Thong 5C1924X'\n",
            " 'Golden Leopard Sheer Lace Low-Rise Thong 4F1586' 'Lace G-String 482051'\n",
            " 'Striped Racerback Medium-Impact Sports Bra'\n",
            " 'Stars & Stripes Signature Low-Rise Sheer Lace Thong 8N1582'\n",
            " 'Thong F3786' 'Flattering Lace Stretch Brief 13281'\n",
            " 'Amazing Assets Strapless Push-Up Bra 854220'\n",
            " 'Body Shine Illumination Brief 13109'\n",
            " 'Beauty Back Strapless Underwire 74345'\n",
            " 'b.splendid Seamless Hipster 978255'\n",
            " 'Organic Cotton Low-Rise Lace-Trim Boyshort 891281'\n",
            " 'Perfectly Yours Lace Nouveau Nylon Brief 13001'\n",
            " 'Sheer Marquisette Lace-Trim Thong QF1689'\n",
            " 'Full Figure Beauty Back Back Smoothing Minimizer Bra 76080'\n",
            " 'Body Caress Ultimate Comfort High Cut Brief 13280'\n",
            " 'Retro Chemise 485701' 'CK Black Endless Sheer Lace Garter QF1877'\n",
            " 'Plus Size Cross-Dyed Lace Camisole 594624X' 'Essence Push-Up Bra QF1651'\n",
            " 'Lace Chemise 485832' 'Infuse Sheer-Lace Hipster QF1458'\n",
            " 'CK One Logo Bralette QF1536'\n",
            " 'Check Please Ali Crop High-Neck Lace Bralette 7Q7961'\n",
            " 'Signature Sheer Lace Tank Top 484184' 'Linger Sheer Lace Chemise QS5674'\n",
            " 'Queen Of Hearts Lace Bralette 6R7426' 'Seamless Logo Thong QF1568'\n",
            " 'Perfectly Fit Memory Touch Push-Up Bra QF1120'\n",
            " 'Tea Rose Crossover Bralette 6W7044'\n",
            " 'Sweetheart Mesh Lace Babydoll With G-String 5P6056'\n",
            " \"Rose D'Or Embroidered Chemise 6Y5816\" 'Eyelash-Lace Bralette 4T7254'\n",
            " 'Seductive Comfort Push-Up Add-A-Size Bra QF1446'\n",
            " 'Cross-Dyed Lace Camisole 594624' 'Seamless Thong 3-Pack QD3558'\n",
            " 'Lace Racerback Bra QF1768' 'Floral Lace-Trimmed Camisole 684031'\n",
            " 'Zone 4 Firm Control Torsette Shaper 803258'\n",
            " 'Modern Medium-Impact Logo Sports Bralette QF1654'\n",
            " \"Bare Lace Halter Bralette QF4044, Only at Macy's\"\n",
            " 'Signature Lace Pretty Leopard-Print Bodysuit 9G8506'\n",
            " 'Bralette And Bikini Gift Set QF1693' 'Shimmer Emma Lace Bralette 2N7211'\n",
            " 'b.sultry Garter Belt 948261'\n",
            " 'CK Black Collection Temptation Floral-Embroidered Chemise QS5555'\n",
            " 'Seductive Comfort Lace Underwire Bra QF1741'\n",
            " 'Iron Strength Push-Up Bra QF1538' 'Venise Wireless Bralette 6V7324'\n",
            " 'Fitted Signature Lace Chemise 485706' 'Lace Eyemask 91M301'\n",
            " 'Linger Lace Bra QF1792' 'Rose Red Retro Lace Bralette 3J7406'\n",
            " 'Signature Lace Thong Bodysuit 488456'\n",
            " 'Plus Size Signature Lace Chemise 485214X'\n",
            " 'Firm Control Smooth Complexion Long Leg Shaper 805351'\n",
            " 'Tropical Bloom Sheer Lace Boyshort 4A1282' 'Phoebe Chemise 108101'\n",
            " 'Sheer Marquisette Logo-Trim Chemise QS5665'\n",
            " 'Tease Mesh and Lace Bodysuit QF1648' 'Sheer Lace Bodysuit QF1797'\n",
            " 'Signature Lace-Trim Bodysuit QF1511'\n",
            " 'Sheer Marquisette Mesh Bodysuit QF1841'\n",
            " 'Natalia High-Neck Lace-Back Bodysuit 1F8441'\n",
            " 'Illumination Body Shine Hipster 18107'\n",
            " 'Illumination Heathered Cotton Bikini 18315'\n",
            " 'Low-Impact Strappy-Back Sports Bra'\n",
            " 'CK Black Collection Seduce Sheer Lace Garter Belt QF1524'\n",
            " 'b.gorgeous Garter Belt 948236' 'Iron Strength Logo Hipster QF1522'\n",
            " 'Embrace Lace Tanga 848191' 'Eyelash-Lace Low-Rise Thong 4T1674'\n",
            " 'Body Caress Wireless Lace Bra 72336' 'Long-Sleeve Lace Top 128L'\n",
            " 'Comfort X3 Full-Coverage Satin Bra 75364'\n",
            " 'Body Caress Ultimate Comfort Hipster 18281'\n",
            " 'Comfort X3 Full-Coverage Keyhole Bra 76364'\n",
            " 'Flattering Lift Front-Close Bra 75212'\n",
            " 'Iron Strength Logo Bikini QF1521' 'b.gorgeous Underwire Bra 951236'\n",
            " 'Firm Control Visual Effects Minimizing Camisole 803210'\n",
            " 'Embrace Lace Push Up Bra and Bikini'\n",
            " 'b.sultry Balconette Bra, Thong and Garter Belt'\n",
            " 'Awareness Seamless Full Figure Underwire Bra and High Cut Brief'\n",
            " 'CK Black Collection Temptation Floral-Embroidered Bra & Thong'\n",
            " 'CK Black Endless Plunge Lace Push-Up Bra & Hipster'\n",
            " 'b.provocative Contrast-Lace Bra & Bikini' 'Logo Bralette and Boyshort'\n",
            " 'b.inspired Lace Bralette & Hipster' 'Bahama Mama Lace Bralette & Bikini'\n",
            " 'Lace Kiss Bralette & Thong'\n",
            " 'CK Black Collection Embrace Embroidered Merry Widow & Thong'\n",
            " 'After Midnight Naughty & Nice Thong 2-Pack 49NNPK'\n",
            " 'Tease Lace and Mesh Bralette & Bikini'\n",
            " 'Ciao Bella Balconette Bra, Tanga and Garter Belt'\n",
            " 'Full Figure Cooling Touch Underwire Bra 76355'\n",
            " 'Perfectly Yours Seamless 13083' 'Sheer Enough Thong 842253'\n",
            " 'Fusion Tank']\n"
          ]
        }
      ],
      "source": [
        "unique =data['product_name'].unique()\n",
        "print(unique)"
      ],
      "id": "f6d14c40"
    },
    {
      "cell_type": "code",
      "execution_count": null,
      "metadata": {
        "colab": {
          "base_uri": "https://localhost:8080/",
          "height": 528
        },
        "id": "5c55f150",
        "outputId": "d0dfbd96-58ea-4ea8-8d3b-334d5e7dee87"
      },
      "outputs": [
        {
          "output_type": "stream",
          "name": "stderr",
          "text": [
            "<ipython-input-11-b8837a1ba634>:1: SettingWithCopyWarning: \n",
            "A value is trying to be set on a copy of a slice from a DataFrame.\n",
            "Try using .loc[row_indexer,col_indexer] = value instead\n",
            "\n",
            "See the caveats in the documentation: https://pandas.pydata.org/pandas-docs/stable/user_guide/indexing.html#returning-a-view-versus-a-copy\n",
            "  data['product_name'] = data['product_name'].str.lower()\n"
          ]
        },
        {
          "output_type": "execute_result",
          "data": {
            "text/plain": [
              "                                            product_name  review_count\n",
              "0                                id string bikini qf1754           0.0\n",
              "1                                id string bikini qf1754           0.0\n",
              "2                                id string bikini qf1754           0.0\n",
              "3      ck black collection embrace lace-waist thong q...           0.0\n",
              "4                              halo lace boyshort 870205           2.0\n",
              "...                                                  ...           ...\n",
              "40892             sport high-impact underwire bra 855170           5.0\n",
              "40893              wild thistle french lace brief 4y2234           0.0\n",
              "40894            plus size signature lace vikini 482374x           1.0\n",
              "40895                            modern logo pants d1632           0.0\n",
              "40896                            modern logo pants d1632           0.0\n",
              "\n",
              "[40897 rows x 2 columns]"
            ],
            "text/html": [
              "\n",
              "  <div id=\"df-fc936d7f-7172-4e19-a62f-a38464c51739\">\n",
              "    <div class=\"colab-df-container\">\n",
              "      <div>\n",
              "<style scoped>\n",
              "    .dataframe tbody tr th:only-of-type {\n",
              "        vertical-align: middle;\n",
              "    }\n",
              "\n",
              "    .dataframe tbody tr th {\n",
              "        vertical-align: top;\n",
              "    }\n",
              "\n",
              "    .dataframe thead th {\n",
              "        text-align: right;\n",
              "    }\n",
              "</style>\n",
              "<table border=\"1\" class=\"dataframe\">\n",
              "  <thead>\n",
              "    <tr style=\"text-align: right;\">\n",
              "      <th></th>\n",
              "      <th>product_name</th>\n",
              "      <th>review_count</th>\n",
              "    </tr>\n",
              "  </thead>\n",
              "  <tbody>\n",
              "    <tr>\n",
              "      <th>0</th>\n",
              "      <td>id string bikini qf1754</td>\n",
              "      <td>0.0</td>\n",
              "    </tr>\n",
              "    <tr>\n",
              "      <th>1</th>\n",
              "      <td>id string bikini qf1754</td>\n",
              "      <td>0.0</td>\n",
              "    </tr>\n",
              "    <tr>\n",
              "      <th>2</th>\n",
              "      <td>id string bikini qf1754</td>\n",
              "      <td>0.0</td>\n",
              "    </tr>\n",
              "    <tr>\n",
              "      <th>3</th>\n",
              "      <td>ck black collection embrace lace-waist thong q...</td>\n",
              "      <td>0.0</td>\n",
              "    </tr>\n",
              "    <tr>\n",
              "      <th>4</th>\n",
              "      <td>halo lace boyshort 870205</td>\n",
              "      <td>2.0</td>\n",
              "    </tr>\n",
              "    <tr>\n",
              "      <th>...</th>\n",
              "      <td>...</td>\n",
              "      <td>...</td>\n",
              "    </tr>\n",
              "    <tr>\n",
              "      <th>40892</th>\n",
              "      <td>sport high-impact underwire bra 855170</td>\n",
              "      <td>5.0</td>\n",
              "    </tr>\n",
              "    <tr>\n",
              "      <th>40893</th>\n",
              "      <td>wild thistle french lace brief 4y2234</td>\n",
              "      <td>0.0</td>\n",
              "    </tr>\n",
              "    <tr>\n",
              "      <th>40894</th>\n",
              "      <td>plus size signature lace vikini 482374x</td>\n",
              "      <td>1.0</td>\n",
              "    </tr>\n",
              "    <tr>\n",
              "      <th>40895</th>\n",
              "      <td>modern logo pants d1632</td>\n",
              "      <td>0.0</td>\n",
              "    </tr>\n",
              "    <tr>\n",
              "      <th>40896</th>\n",
              "      <td>modern logo pants d1632</td>\n",
              "      <td>0.0</td>\n",
              "    </tr>\n",
              "  </tbody>\n",
              "</table>\n",
              "<p>40897 rows × 2 columns</p>\n",
              "</div>\n",
              "      <button class=\"colab-df-convert\" onclick=\"convertToInteractive('df-fc936d7f-7172-4e19-a62f-a38464c51739')\"\n",
              "              title=\"Convert this dataframe to an interactive table.\"\n",
              "              style=\"display:none;\">\n",
              "        \n",
              "  <svg xmlns=\"http://www.w3.org/2000/svg\" height=\"24px\"viewBox=\"0 0 24 24\"\n",
              "       width=\"24px\">\n",
              "    <path d=\"M0 0h24v24H0V0z\" fill=\"none\"/>\n",
              "    <path d=\"M18.56 5.44l.94 2.06.94-2.06 2.06-.94-2.06-.94-.94-2.06-.94 2.06-2.06.94zm-11 1L8.5 8.5l.94-2.06 2.06-.94-2.06-.94L8.5 2.5l-.94 2.06-2.06.94zm10 10l.94 2.06.94-2.06 2.06-.94-2.06-.94-.94-2.06-.94 2.06-2.06.94z\"/><path d=\"M17.41 7.96l-1.37-1.37c-.4-.4-.92-.59-1.43-.59-.52 0-1.04.2-1.43.59L10.3 9.45l-7.72 7.72c-.78.78-.78 2.05 0 2.83L4 21.41c.39.39.9.59 1.41.59.51 0 1.02-.2 1.41-.59l7.78-7.78 2.81-2.81c.8-.78.8-2.07 0-2.86zM5.41 20L4 18.59l7.72-7.72 1.47 1.35L5.41 20z\"/>\n",
              "  </svg>\n",
              "      </button>\n",
              "      \n",
              "  <style>\n",
              "    .colab-df-container {\n",
              "      display:flex;\n",
              "      flex-wrap:wrap;\n",
              "      gap: 12px;\n",
              "    }\n",
              "\n",
              "    .colab-df-convert {\n",
              "      background-color: #E8F0FE;\n",
              "      border: none;\n",
              "      border-radius: 50%;\n",
              "      cursor: pointer;\n",
              "      display: none;\n",
              "      fill: #1967D2;\n",
              "      height: 32px;\n",
              "      padding: 0 0 0 0;\n",
              "      width: 32px;\n",
              "    }\n",
              "\n",
              "    .colab-df-convert:hover {\n",
              "      background-color: #E2EBFA;\n",
              "      box-shadow: 0px 1px 2px rgba(60, 64, 67, 0.3), 0px 1px 3px 1px rgba(60, 64, 67, 0.15);\n",
              "      fill: #174EA6;\n",
              "    }\n",
              "\n",
              "    [theme=dark] .colab-df-convert {\n",
              "      background-color: #3B4455;\n",
              "      fill: #D2E3FC;\n",
              "    }\n",
              "\n",
              "    [theme=dark] .colab-df-convert:hover {\n",
              "      background-color: #434B5C;\n",
              "      box-shadow: 0px 1px 3px 1px rgba(0, 0, 0, 0.15);\n",
              "      filter: drop-shadow(0px 1px 2px rgba(0, 0, 0, 0.3));\n",
              "      fill: #FFFFFF;\n",
              "    }\n",
              "  </style>\n",
              "\n",
              "      <script>\n",
              "        const buttonEl =\n",
              "          document.querySelector('#df-fc936d7f-7172-4e19-a62f-a38464c51739 button.colab-df-convert');\n",
              "        buttonEl.style.display =\n",
              "          google.colab.kernel.accessAllowed ? 'block' : 'none';\n",
              "\n",
              "        async function convertToInteractive(key) {\n",
              "          const element = document.querySelector('#df-fc936d7f-7172-4e19-a62f-a38464c51739');\n",
              "          const dataTable =\n",
              "            await google.colab.kernel.invokeFunction('convertToInteractive',\n",
              "                                                     [key], {});\n",
              "          if (!dataTable) return;\n",
              "\n",
              "          const docLinkHtml = 'Like what you see? Visit the ' +\n",
              "            '<a target=\"_blank\" href=https://colab.research.google.com/notebooks/data_table.ipynb>data table notebook</a>'\n",
              "            + ' to learn more about interactive tables.';\n",
              "          element.innerHTML = '';\n",
              "          dataTable['output_type'] = 'display_data';\n",
              "          await google.colab.output.renderOutput(dataTable, element);\n",
              "          const docLink = document.createElement('div');\n",
              "          docLink.innerHTML = docLinkHtml;\n",
              "          element.appendChild(docLink);\n",
              "        }\n",
              "      </script>\n",
              "    </div>\n",
              "  </div>\n",
              "  "
            ]
          },
          "metadata": {},
          "execution_count": 11
        }
      ],
      "source": [
        "data['product_name'] = data['product_name'].str.lower()\n",
        "data"
      ],
      "id": "5c55f150"
    },
    {
      "cell_type": "code",
      "execution_count": null,
      "metadata": {
        "colab": {
          "base_uri": "https://localhost:8080/"
        },
        "id": "3c586a4b",
        "outputId": "2c5674df-6b92-4f73-c158-dda4c3c98db7"
      },
      "outputs": [
        {
          "output_type": "stream",
          "name": "stderr",
          "text": [
            "<ipython-input-12-801461c8e614>:7: SettingWithCopyWarning: \n",
            "A value is trying to be set on a copy of a slice from a DataFrame.\n",
            "Try using .loc[row_indexer,col_indexer] = value instead\n",
            "\n",
            "See the caveats in the documentation: https://pandas.pydata.org/pandas-docs/stable/user_guide/indexing.html#returning-a-view-versus-a-copy\n",
            "  data['product_name'] = data['product_name'].apply(lambda x: clean_stop_words(x, nltk_stopwords.words('english')))\n"
          ]
        }
      ],
      "source": [
        "# Функция удаления стоп-слов, если они есть\n",
        "\n",
        "def clean_stop_words(text, stopwords):\n",
        "    text = [word for word in text.split() if word not in stopwords]\n",
        "    return \" \".join(text)\n",
        "\n",
        "data['product_name'] = data['product_name'].apply(lambda x: clean_stop_words(x, nltk_stopwords.words('english')))"
      ],
      "id": "3c586a4b"
    },
    {
      "cell_type": "code",
      "execution_count": null,
      "metadata": {
        "colab": {
          "base_uri": "https://localhost:8080/"
        },
        "id": "9ff5bc86",
        "outputId": "97f0b09a-ead3-4ea4-fc79-6b7adb36ff24"
      },
      "outputs": [
        {
          "output_type": "execute_result",
          "data": {
            "text/plain": [
              "array([  0.,   2.,   1.,  16.,  75.,   4.,  43.,  66., 217.,  33.,   3.,\n",
              "         6.,   8.,  13., 178.,  11.,  53.,  27.,   7.,  31.,  22.,  20.,\n",
              "        25.,   5.,  29., 105.,  12.,  79., 125.,  62.,  68.,  21., 406.,\n",
              "         9.,  48., 167.,  23.,  65.,  26., 198., 147.,  41.,  40., 127.,\n",
              "        17., 245.,  69.,  14.,  58., 287.,  19.,  18., 172.,  15., 137.,\n",
              "       188.,  89., 129.,  51.,  59., 141.,  77.,  93., 220., 163.,  47.,\n",
              "       354., 405.,  10., 114.,  78., 404., 126.,  46., 166.,  76., 286.,\n",
              "        52.,  88.,  57., 162., 218.,  28.,  50.,  24., 136., 402., 187.,\n",
              "        87., 161.,  64.,  45., 140., 124., 128., 160.,  32., 158., 135.,\n",
              "       401.,  37., 305., 123.,  94., 139., 400., 244.,  96.,  86., 134.,\n",
              "       186.,  73., 399.,  97.])"
            ]
          },
          "metadata": {},
          "execution_count": 13
        }
      ],
      "source": [
        "data['review_count'].unique()"
      ],
      "id": "9ff5bc86"
    },
    {
      "cell_type": "code",
      "execution_count": null,
      "metadata": {
        "colab": {
          "base_uri": "https://localhost:8080/"
        },
        "id": "156c4231",
        "outputId": "ec2df433-66af-4fac-d2a2-ebfbc7685640"
      },
      "outputs": [
        {
          "output_type": "execute_result",
          "data": {
            "text/plain": [
              "count    40897.000000\n",
              "mean        19.807003\n",
              "std         50.767880\n",
              "min          0.000000\n",
              "25%          0.000000\n",
              "50%          2.000000\n",
              "75%         11.000000\n",
              "max        406.000000\n",
              "Name: review_count, dtype: float64"
            ]
          },
          "metadata": {},
          "execution_count": 14
        }
      ],
      "source": [
        "data['review_count'].describe()"
      ],
      "id": "156c4231"
    },
    {
      "cell_type": "code",
      "execution_count": null,
      "metadata": {
        "id": "27dc15cd"
      },
      "outputs": [],
      "source": [
        "# -------------------------------"
      ],
      "id": "27dc15cd"
    },
    {
      "cell_type": "code",
      "execution_count": null,
      "metadata": {
        "id": "dd47cf38"
      },
      "outputs": [],
      "source": [
        "X = data['product_name']\n",
        "y = data['review_count']"
      ],
      "id": "dd47cf38"
    },
    {
      "cell_type": "code",
      "execution_count": null,
      "metadata": {
        "id": "f5b7c0a0"
      },
      "outputs": [],
      "source": [
        "X_train, X_test, y_train, y_test = train_test_split(X, y, test_size=0.3, random_state=5)"
      ],
      "id": "f5b7c0a0"
    },
    {
      "cell_type": "code",
      "execution_count": null,
      "metadata": {
        "colab": {
          "base_uri": "https://localhost:8080/",
          "height": 489
        },
        "id": "eedbb2f0",
        "outputId": "c9da4e16-40ab-46b3-ed95-d61781a0cd4d"
      },
      "outputs": [
        {
          "output_type": "execute_result",
          "data": {
            "text/plain": [
              "<matplotlib.legend.Legend at 0x7fa643da68f0>"
            ]
          },
          "metadata": {},
          "execution_count": 18
        },
        {
          "output_type": "display_data",
          "data": {
            "text/plain": [
              "<Figure size 640x480 with 1 Axes>"
            ],
            "image/png": "[encoded data removed]"
          },
          "metadata": {}
        }
      ],
      "source": [
        "# Для обучающей выборки\n",
        "plt.hist(y_train, bins=30, color='blue', alpha=0.5, label='train')\n",
        "# Для тестовой выборки\n",
        "plt.hist(y_test, bins=30, color='red', alpha=0.5, label='test')\n",
        "\n",
        "plt.xlabel('отзывы')\n",
        "plt.ylabel('частота')\n",
        "plt.title('сравнение распределения целевого признака')\n",
        "plt.legend()"
      ],
      "id": "eedbb2f0"
    },
    {
      "cell_type": "code",
      "execution_count": null,
      "metadata": {
        "colab": {
          "base_uri": "https://localhost:8080/"
        },
        "id": "55d18b19",
        "outputId": "2ab50144-a44d-41b2-b253-791caff2d0e9"
      },
      "outputs": [
        {
          "output_type": "stream",
          "name": "stdout",
          "text": [
            "обучающая 0.6380340238236629\n",
            "тестовая 0.6386308068459657\n"
          ]
        }
      ],
      "source": [
        "#  Доля положительных значений целевого признака (продукт имеет хотя бы один отзыв)\n",
        "train_pol = y_train[y_train > 0].shape[0] / y_train.shape[0]\n",
        "test_pol= y_test[y_test > 0].shape[0] / y_test.shape[0]\n",
        "\n",
        "print(\"обучающая\", train_pol)\n",
        "print(\"тестовая\", test_pol)"
      ],
      "id": "55d18b19"
    },
    {
      "cell_type": "code",
      "execution_count": null,
      "metadata": {
        "id": "685eb458"
      },
      "outputs": [],
      "source": [
        "# Остальное - у товара 0 отзывов"
      ],
      "id": "685eb458"
    },
    {
      "cell_type": "code",
      "execution_count": null,
      "metadata": {
        "id": "63c30e0a"
      },
      "outputs": [],
      "source": [
        "# Векторные представления с сочетанием по одному слову\n",
        "count_idf = TfidfVectorizer(ngram_range=(1, 1))\n",
        "\n",
        "tf_idf = count_idf.fit_transform(X_train)"
      ],
      "id": "63c30e0a"
    },
    {
      "cell_type": "code",
      "execution_count": null,
      "metadata": {
        "colab": {
          "base_uri": "https://localhost:8080/"
        },
        "id": "1e659b45",
        "outputId": "fc68f0f0-8334-4a55-8e26-f995de910fe5"
      },
      "outputs": [
        {
          "output_type": "stream",
          "name": "stdout",
          "text": [
            "(28627, 899)\n"
          ]
        }
      ],
      "source": [
        "# Размеры векторов\n",
        "\n",
        "print(tf_idf.shape)"
      ],
      "id": "1e659b45"
    },
    {
      "cell_type": "code",
      "execution_count": null,
      "metadata": {
        "id": "8ecf83d2"
      },
      "outputs": [],
      "source": [
        "# 899 -вектор (899 уникальных слова в обучающем наборе данных)"
      ],
      "id": "8ecf83d2"
    },
    {
      "cell_type": "code",
      "execution_count": null,
      "metadata": {
        "id": "c8fc4fee"
      },
      "outputs": [],
      "source": [
        "# -----------------------------------------"
      ],
      "id": "c8fc4fee"
    },
    {
      "cell_type": "code",
      "execution_count": null,
      "metadata": {
        "colab": {
          "base_uri": "https://localhost:8080/"
        },
        "id": "9fd3183d",
        "outputId": "69cab352-473b-4f24-f52c-8f83f8245606"
      },
      "outputs": [
        {
          "output_type": "stream",
          "name": "stdout",
          "text": [
            "[ 5. 22.  4. ...  6.  5.  8.]\n",
            "[[2.59229453e-02 2.83998140e-02 9.24238184e-03 ... 2.09503059e-04\n",
            "  1.79708736e-04 1.75368667e-04]\n",
            " [9.22230891e-02 4.73949296e-02 4.55591080e-02 ... 4.66496625e-04\n",
            "  3.97209786e-04 3.87272514e-04]\n",
            " [1.50026989e-02 1.32854724e-02 1.64782331e-02 ... 1.88182487e-04\n",
            "  1.62020333e-04 1.58150335e-04]\n",
            " ...\n",
            " [4.66186823e-02 3.58736578e-02 1.01548090e-02 ... 7.71539253e-05\n",
            "  6.63061347e-05 6.47407371e-05]\n",
            " [2.59229453e-02 2.83998140e-02 9.24238184e-03 ... 2.09503059e-04\n",
            "  1.79708736e-04 1.75368667e-04]\n",
            " [2.70223346e-02 9.47886578e-03 2.48449974e-03 ... 8.43903838e-05\n",
            "  7.18475513e-05 7.00597419e-05]]\n"
          ]
        }
      ],
      "source": [
        "# Обучение логистической регрессии:\n",
        "model_lr = LogisticRegression(solver='lbfgs', random_state=5, max_iter=10000, n_jobs=-1)\n",
        "model_lr.fit(tf_idf, y_train)\n",
        "\n",
        "# В векторное представление\n",
        "X_test_tfidf = count_idf.transform(X_test)\n",
        "\n",
        "y_prog = model_lr.predict(X_test_tfidf)\n",
        "y_prog_proba = model_lr.predict_proba(X_test_tfidf)\n",
        "print(y_prog)\n",
        "print(y_prog_proba)"
      ],
      "id": "9fd3183d"
    },
    {
      "cell_type": "code",
      "execution_count": null,
      "metadata": {
        "id": "f3d31c4e"
      },
      "outputs": [],
      "source": [
        "# y_prog - каждое число в массиве представляет собой прогнозное значение для количества отзывов\n",
        "# y_prog_proba - каждое число в строке это вероятность принадлежности примера к определенному значению количества отзывов"
      ],
      "id": "f3d31c4e"
    },
    {
      "cell_type": "code",
      "execution_count": null,
      "metadata": {
        "colab": {
          "base_uri": "https://localhost:8080/"
        },
        "id": "09b89b44",
        "outputId": "e041d7ff-3ae6-4c1c-92f9-1e35a3b7cb72"
      },
      "outputs": [
        {
          "output_type": "execute_result",
          "data": {
            "text/plain": [
              "array([1., 1., 1., ..., 1., 1., 1.])"
            ]
          },
          "metadata": {},
          "execution_count": 27
        }
      ],
      "source": [
        "# Проверка вероятности\n",
        "y_prog_proba.sum(axis=1)"
      ],
      "id": "09b89b44"
    },
    {
      "cell_type": "code",
      "execution_count": null,
      "metadata": {
        "colab": {
          "base_uri": "https://localhost:8080/"
        },
        "id": "5f60756f",
        "outputId": "6d2f92e4-66c5-485b-efaf-2a2d692130bc"
      },
      "outputs": [
        {
          "output_type": "stream",
          "name": "stdout",
          "text": [
            "0.8795436022819886\n"
          ]
        }
      ],
      "source": [
        "# Доля правильных предсказаний базовой модели\n",
        "accuracy = accuracy_score(y_test, y_prog)\n",
        "print(accuracy)"
      ],
      "id": "5f60756f"
    },
    {
      "cell_type": "code",
      "execution_count": null,
      "metadata": {
        "colab": {
          "base_uri": "https://localhost:8080/"
        },
        "id": "1cba0fb5",
        "outputId": "bdcb5bd5-14a4-45e8-8d0e-1f84d0b0b8d2"
      },
      "outputs": [
        {
          "output_type": "stream",
          "name": "stderr",
          "text": [
            "/usr/local/lib/python3.10/dist-packages/sklearn/model_selection/_split.py:700: UserWarning: The least populated class in y has only 1 members, which is less than n_splits=5.\n",
            "  warnings.warn(\n",
            "/usr/local/lib/python3.10/dist-packages/sklearn/model_selection/_validation.py:378: FitFailedWarning: \n",
            "15 fits failed out of a total of 30.\n",
            "The score on these train-test partitions for these parameters will be set to nan.\n",
            "If these failures are not expected, you can try to debug them by setting error_score='raise'.\n",
            "\n",
            "Below are more details about the failures:\n",
            "--------------------------------------------------------------------------------\n",
            "15 fits failed with the following error:\n",
            "Traceback (most recent call last):\n",
            "  File \"/usr/local/lib/python3.10/dist-packages/sklearn/model_selection/_validation.py\", line 686, in _fit_and_score\n",
            "    estimator.fit(X_train, y_train, **fit_params)\n",
            "  File \"/usr/local/lib/python3.10/dist-packages/sklearn/linear_model/_logistic.py\", line 1162, in fit\n",
            "    solver = _check_solver(self.solver, self.penalty, self.dual)\n",
            "  File \"/usr/local/lib/python3.10/dist-packages/sklearn/linear_model/_logistic.py\", line 54, in _check_solver\n",
            "    raise ValueError(\n",
            "ValueError: Solver lbfgs supports only 'l2' or 'none' penalties, got l1 penalty.\n",
            "\n",
            "  warnings.warn(some_fits_failed_message, FitFailedWarning)\n",
            "/usr/local/lib/python3.10/dist-packages/sklearn/model_selection/_search.py:952: UserWarning: One or more of the test scores are non-finite: [       nan 0.77612002        nan 0.87864589        nan 0.88213909]\n",
            "  warnings.warn(\n"
          ]
        },
        {
          "output_type": "stream",
          "name": "stdout",
          "text": [
            "Лучшие параметры: {'C': 10, 'penalty': 'l2'}\n",
            "[ 5. 22.  4. ...  6.  5.  8.]\n",
            "[[4.41588313e-03 4.97000922e-03 1.97909174e-03 ... 2.67414210e-05\n",
            "  2.55619550e-05 2.54056016e-05]\n",
            " [1.20189286e-02 6.90710282e-03 6.28355248e-03 ... 5.10390882e-05\n",
            "  4.85100290e-05 4.81800758e-05]\n",
            " [2.31184911e-03 1.80052155e-03 1.98219219e-03 ... 1.60877299e-05\n",
            "  1.55061112e-05 1.54236714e-05]\n",
            " ...\n",
            " [7.44489782e-03 6.13926961e-03 1.55874878e-03 ... 5.76109936e-06\n",
            "  5.48699118e-06 5.45149855e-06]\n",
            " [4.41588313e-03 4.97000922e-03 1.97909174e-03 ... 2.67414210e-05\n",
            "  2.55619550e-05 2.54056016e-05]\n",
            " [3.95651950e-03 1.25673452e-03 3.84189505e-04 ... 7.82059066e-06\n",
            "  7.41163652e-06 7.35916203e-06]]\n"
          ]
        }
      ],
      "source": [
        "# Подбор параметров для модели:\n",
        "param_grid = {'C': [0.1, 1, 10], 'penalty': ['l1', 'l2']}\n",
        "grid = GridSearchCV(model_lr, param_grid, cv=5)\n",
        "grid.fit(tf_idf, y_train)\n",
        "print(\"Лучшие параметры:\", grid.best_params_)\n",
        "\n",
        "# Лучшая модель к тестовым данным\n",
        "y_prog2 = grid.predict(X_test_tfidf)\n",
        "y_prog_proba2 = grid.predict_proba(X_test_tfidf)\n",
        "print(y_prog2)\n",
        "print(y_prog_proba2)"
      ],
      "id": "1cba0fb5"
    },
    {
      "cell_type": "code",
      "execution_count": null,
      "metadata": {
        "colab": {
          "base_uri": "https://localhost:8080/"
        },
        "id": "04d9c39d",
        "outputId": "a0b63e30-d65b-46fb-b536-c97e740ce2f8"
      },
      "outputs": [
        {
          "output_type": "stream",
          "name": "stdout",
          "text": [
            "0.8819070904645476\n"
          ]
        }
      ],
      "source": [
        "# Доля правильных предсказаний модели с лучшими параметрами\n",
        "accuracy = accuracy_score(y_test, y_prog2)\n",
        "print(accuracy)"
      ],
      "id": "04d9c39d"
    },
    {
      "cell_type": "code",
      "execution_count": null,
      "metadata": {
        "colab": {
          "base_uri": "https://localhost:8080/"
        },
        "id": "de421ba0",
        "outputId": "ad46f102-3ac7-480f-d618-400bbbfe0605"
      },
      "outputs": [
        {
          "output_type": "stream",
          "name": "stdout",
          "text": [
            "       Базовая модель  Модель с лучшими параметрами\n",
            "0                 5.0                           5.0\n",
            "1                22.0                          22.0\n",
            "2                 4.0                           4.0\n",
            "3                78.0                          78.0\n",
            "4                 0.0                           0.0\n",
            "...               ...                           ...\n",
            "12265             0.0                           0.0\n",
            "12266             0.0                           0.0\n",
            "12267             6.0                           6.0\n",
            "12268             5.0                           5.0\n",
            "12269             8.0                           8.0\n",
            "\n",
            "[12270 rows x 2 columns]\n"
          ]
        }
      ],
      "source": [
        "y_prog_base = model_lr.predict(X_test_tfidf)\n",
        "y_prog_best = grid.predict(X_test_tfidf)\n",
        "\n",
        "predictions_df = pd.DataFrame({'Базовая модель': y_prog_base, 'Модель с лучшими параметрами': y_prog_best})\n",
        "print(predictions_df)"
      ],
      "id": "de421ba0"
    },
    {
      "cell_type": "code",
      "execution_count": null,
      "metadata": {
        "colab": {
          "base_uri": "https://localhost:8080/"
        },
        "id": "f1e52005",
        "outputId": "8162adb0-659c-4da8-b7ea-40e1aa6469c5"
      },
      "outputs": [
        {
          "output_type": "stream",
          "name": "stdout",
          "text": [
            "    Базовая модель  Модель с лучшими параметрами\n",
            "0              0.0                           1.0\n",
            "1              2.0                          11.0\n",
            "2              0.0                           2.0\n",
            "3              0.0                           2.0\n",
            "4              0.0                          94.0\n",
            "5              2.0                          11.0\n",
            "6              0.0                           1.0\n",
            "7              2.0                          11.0\n",
            "8              0.0                          94.0\n",
            "9              0.0                           1.0\n",
            "10             2.0                          11.0\n",
            "11             0.0                           1.0\n",
            "12             0.0                           1.0\n",
            "13             0.0                           1.0\n",
            "14             3.0                           0.0\n",
            "15             2.0                          11.0\n",
            "16             0.0                          53.0\n",
            "17             0.0                          53.0\n",
            "18             2.0                          11.0\n",
            "19             0.0                          94.0\n",
            "20             2.0                          11.0\n",
            "21             3.0                           0.0\n",
            "22             0.0                           2.0\n",
            "23             2.0                          11.0\n",
            "24             0.0                           2.0\n",
            "25             0.0                           2.0\n",
            "26             0.0                          94.0\n",
            "27             3.0                           0.0\n",
            "28             0.0                          53.0\n",
            "29             0.0                           2.0\n",
            "30             3.0                           0.0\n",
            "31             0.0                           1.0\n",
            "32             2.0                          37.0\n",
            "33             0.0                           1.0\n",
            "34             3.0                           0.0\n",
            "35             0.0                          53.0\n",
            "36             0.0                          57.0\n",
            "37             0.0                           2.0\n",
            "38             0.0                           2.0\n",
            "39             2.0                          11.0\n",
            "40             2.0                          11.0\n",
            "41             2.0                          11.0\n",
            "42             0.0                          57.0\n",
            "43             3.0                           0.0\n",
            "44             0.0                          94.0\n",
            "45             0.0                           1.0\n",
            "46             1.0                           0.0\n",
            "47             0.0                          53.0\n",
            "48             0.0                           1.0\n",
            "49             3.0                           0.0\n",
            "50             0.0                           1.0\n"
          ]
        }
      ],
      "source": [
        "diff_indices = np.where(y_prog_base != y_prog_best)[0]\n",
        "diff_pred = pd.DataFrame({'Базовая модель': y_prog_base[diff_indices], 'Модель с лучшими параметрами': y_prog_best[diff_indices]})\n",
        "\n",
        "print(diff_pred)"
      ],
      "id": "f1e52005"
    },
    {
      "cell_type": "code",
      "execution_count": null,
      "metadata": {
        "id": "3f139ef6"
      },
      "outputs": [],
      "source": [
        "# 1. Сравнение с кол-вом отзывов на существующих товарах:"
      ],
      "id": "3f139ef6"
    },
    {
      "cell_type": "code",
      "execution_count": null,
      "metadata": {
        "colab": {
          "base_uri": "https://localhost:8080/"
        },
        "id": "b7d9df6d",
        "outputId": "388a4cb7-bb04-486e-b11d-ab32c826042c"
      },
      "outputs": [
        {
          "output_type": "stream",
          "name": "stdout",
          "text": [
            "id string bikini qf1754: 0.0\n",
            "modern logo pants d1632: 1.0\n",
            "sport high-impact underwire bra 855170: 141.0\n"
          ]
        }
      ],
      "source": [
        "# Вывод средних значений:\n",
        "#product_names = ['id string bikini qf1754', 'sport high-impact underwire bra 855170', 'modern logo pants d1632']\n",
        "#selected_data = data[data['product_name'].isin(product_names)]\n",
        "#\n",
        "#mean_review_count = selected_data.groupby('product_name')['review_count'].mean()\n",
        "#\n",
        "#for product_name, review_count in mean_review_count.items():\n",
        "#    print(f\"{product_name}: {np.round(review_count)}\")"
      ],
      "id": "b7d9df6d"
    },
    {
      "cell_type": "code",
      "execution_count": null,
      "metadata": {
        "colab": {
          "base_uri": "https://localhost:8080/"
        },
        "id": "28ddd411",
        "outputId": "179401a3-ff57-44ee-ac44-8c079a187803"
      },
      "outputs": [
        {
          "output_type": "stream",
          "name": "stdout",
          "text": [
            "id string bikini qf1754: 0.0\n",
            "sport high-impact underwire bra 855170: 217.0\n",
            "modern logo pants d1632: 1.0\n"
          ]
        }
      ],
      "source": [
        "# Вывод значений на лучших параметрах:\n",
        "#new_product_names = ['id string bikini qf1754', 'sport high-impact underwire bra 855170', 'modern logo pants d1632']\n",
        "#\n",
        "#new_product_names_tfidf = count_idf.transform(new_product_names)\n",
        "#y_prog_new = grid.predict(new_product_names_tfidf)\n",
        "#\n",
        "#for product_name, prediction in zip(new_product_names, y_prog_new):\n",
        "#    print(product_name + \": \" + str(prediction))"
      ],
      "id": "28ddd411"
    },
    {
      "cell_type": "code",
      "execution_count": null,
      "metadata": {
        "id": "9f20b0b9"
      },
      "outputs": [],
      "source": [
        "# 2. Тест на товарах написанных на русском языке:"
      ],
      "id": "9f20b0b9"
    },
    {
      "cell_type": "code",
      "execution_count": null,
      "metadata": {
        "colab": {
          "base_uri": "https://localhost:8080/"
        },
        "id": "4eedc5a6",
        "outputId": "f2bcd341-9aab-429a-d4af-9500f188ce5d"
      },
      "outputs": [
        {
          "output_type": "stream",
          "name": "stdout",
          "text": [
            "бикини с завязками идентификатора: 0.0\n",
            "спортивный лифчик с высокой поддержкой и каркасом: 0.0\n",
            "современные брюки с логотипом: 0.0\n"
          ]
        }
      ],
      "source": [
        "# Вывод значений на лучших параметрах:\n",
        "#new_product_names = ['бикини с завязками идентификатора', 'спортивный лифчик с высокой поддержкой и каркасом',\n",
        "#                 'современные брюки с логотипом']\n",
        "#\n",
        "#new_product_names_tfidf = count_idf.transform(new_product_names)\n",
        "#y_prog_new = grid.predict(new_product_names_tfidf)\n",
        "#\n",
        "#for product_name, prediction in zip(new_product_names, y_prog_new):\n",
        "#    print(product_name + \": \" + str(prediction))"
      ],
      "id": "4eedc5a6"
    },
    {
      "cell_type": "markdown",
      "source": [
        "Качественный анализ"
      ],
      "metadata": {
        "id": "Ty0AEyEUk5OO"
      },
      "id": "Ty0AEyEUk5OO"
    },
    {
      "cell_type": "code",
      "source": [
        "import matplotlib.pyplot as plt\n",
        "# График рассеяния прогнозируемого кол-ва отзывов\n",
        "plt.scatter(y_test, y_prog_best, c='blue', label='Модель с лучшими параметрами')\n",
        "plt.scatter(y_test, y_prog_base, c='red', label='Базовая модель')\n",
        "\n",
        "# Идеальная линия\n",
        "plt.plot([y_test.min(), y_test.max()], [y_test.min(), y_test.max()], label='Идеальные значения')\n",
        "\n",
        "plt.xlabel('Идеальные значения')\n",
        "plt.ylabel('Прогноз')\n",
        "plt.title('График рассеяния прогнозируемого кол-ва отзывов')\n",
        "plt.legend()\n",
        "plt.show()"
      ],
      "metadata": {
        "colab": {
          "base_uri": "https://localhost:8080/",
          "height": 472
        },
        "id": "9Mayo-cjbWef",
        "outputId": "08e19d48-46e4-4462-919b-6d8d8790fdc9"
      },
      "id": "9Mayo-cjbWef",
      "execution_count": null,
      "outputs": [
        {
          "output_type": "display_data",
          "data": {
            "text/plain": [
              "<Figure size 640x480 with 1 Axes>"
            ],
            "image/png": "[encoded data removed]"
          },
          "metadata": {}
        }
      ]
    },
    {
      "cell_type": "code",
      "source": [],
      "metadata": {
        "id": "F4h9Vo2-ibYK"
      },
      "id": "F4h9Vo2-ibYK",
      "execution_count": null,
      "outputs": []
    }
  ],
  "metadata": {
    "colab": {
      "provenance": []
    },
    "kernelspec": {
      "display_name": "Python 3 (ipykernel)",
      "language": "python",
      "name": "python3"
    },
    "language_info": {
      "codemirror_mode": {
        "name": "ipython",
        "version": 3
      },
      "file_extension": ".py",
      "mimetype": "text/x-python",
      "name": "python",
      "nbconvert_exporter": "python",
      "pygments_lexer": "ipython3",
      "version": "3.11.3"
    }
  },
  "nbformat": 4,
  "nbformat_minor": 5
}